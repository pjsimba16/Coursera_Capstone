{
    "cells": [
        {
            "cell_type": "code",
            "execution_count": 7,
            "metadata": {},
            "outputs": [],
            "source": "import pandas as pd\nimport numpy as np"
        },
        {
            "cell_type": "markdown",
            "metadata": {},
            "source": "### Introduction and Business Problem"
        },
        {
            "cell_type": "markdown",
            "metadata": {},
            "source": "For the final capstone project in Coursera's 'IBM Data Science Professional Certificate', I will be utilizing a dataset that was initially collected by the Seattle Police Department through their traffic records which contains information regarding vehicular accident severity in the Seattle area from 2004 to the present. After a quick study of the dataset's attributes and information, I decided to base my investigation on the effects of road, weather and light conditions, together with whether or not there is a driver under the influence on the severity of accidents in the Seattle area. I will firstly need to explore the dataset more thoroughly to see the basic correlations between my chosen independent variables on accident severity before I can build a machine learning model that can predict the severity of future accidents. This information could prove extremely useful to people who commute regularly because they will be able to employ preventative measures depending on the weather. Similarly, roads that are more prone to less desirable conditions due to the weather or lighting issues can be closed off or improved upon based on the findings in this investigation. Moreover, this analysis can also help inform the Seattle Police Department regarding their staffing numbers or locations based on different conditions as well as whether or not they would have to crack down on drivers under the influence more heavily."
        },
        {
            "cell_type": "markdown",
            "metadata": {},
            "source": "### Description of Data"
        },
        {
            "cell_type": "markdown",
            "metadata": {},
            "source": "The collisions dataset contains 194,673 datapoints which each represent an accident that occured in the Seattle area from 2004 onward. Each accident has 37 pieces of information listed, which include the 5 variables that were chosen for this investigation. The first 5 rows of the full dataset for this project is shown below, together with a full list of the variables present in the dataset. However, because I decided to limit my investigation to 4 independent variables and a single dependent variable, I will also limit the dataset. This limited dataset will include the variables: 'SEVERITYCODE', 'ROADCOND', 'LIGHTCOND', 'WEATHER', and 'UNDERINFL', all of which are described in the second table below."
        },
        {
            "cell_type": "code",
            "execution_count": 8,
            "metadata": {},
            "outputs": [
                {
                    "data": {
                        "text/html": "<div>\n<style scoped>\n    .dataframe tbody tr th:only-of-type {\n        vertical-align: middle;\n    }\n\n    .dataframe tbody tr th {\n        vertical-align: top;\n    }\n\n    .dataframe thead th {\n        text-align: right;\n    }\n</style>\n<table border=\"1\" class=\"dataframe\">\n  <thead>\n    <tr style=\"text-align: right;\">\n      <th></th>\n      <th>SEVERITYCODE</th>\n      <th>X</th>\n      <th>Y</th>\n      <th>OBJECTID</th>\n      <th>INCKEY</th>\n      <th>COLDETKEY</th>\n      <th>REPORTNO</th>\n      <th>STATUS</th>\n      <th>ADDRTYPE</th>\n      <th>INTKEY</th>\n      <th>...</th>\n      <th>ROADCOND</th>\n      <th>LIGHTCOND</th>\n      <th>PEDROWNOTGRNT</th>\n      <th>SDOTCOLNUM</th>\n      <th>SPEEDING</th>\n      <th>ST_COLCODE</th>\n      <th>ST_COLDESC</th>\n      <th>SEGLANEKEY</th>\n      <th>CROSSWALKKEY</th>\n      <th>HITPARKEDCAR</th>\n    </tr>\n  </thead>\n  <tbody>\n    <tr>\n      <th>0</th>\n      <td>2</td>\n      <td>-122.323148</td>\n      <td>47.703140</td>\n      <td>1</td>\n      <td>1307</td>\n      <td>1307</td>\n      <td>3502005</td>\n      <td>Matched</td>\n      <td>Intersection</td>\n      <td>37475.0</td>\n      <td>...</td>\n      <td>Wet</td>\n      <td>Daylight</td>\n      <td>NaN</td>\n      <td>NaN</td>\n      <td>NaN</td>\n      <td>10</td>\n      <td>Entering at angle</td>\n      <td>0</td>\n      <td>0</td>\n      <td>N</td>\n    </tr>\n    <tr>\n      <th>1</th>\n      <td>1</td>\n      <td>-122.347294</td>\n      <td>47.647172</td>\n      <td>2</td>\n      <td>52200</td>\n      <td>52200</td>\n      <td>2607959</td>\n      <td>Matched</td>\n      <td>Block</td>\n      <td>NaN</td>\n      <td>...</td>\n      <td>Wet</td>\n      <td>Dark - Street Lights On</td>\n      <td>NaN</td>\n      <td>6354039.0</td>\n      <td>NaN</td>\n      <td>11</td>\n      <td>From same direction - both going straight - bo...</td>\n      <td>0</td>\n      <td>0</td>\n      <td>N</td>\n    </tr>\n    <tr>\n      <th>2</th>\n      <td>1</td>\n      <td>-122.334540</td>\n      <td>47.607871</td>\n      <td>3</td>\n      <td>26700</td>\n      <td>26700</td>\n      <td>1482393</td>\n      <td>Matched</td>\n      <td>Block</td>\n      <td>NaN</td>\n      <td>...</td>\n      <td>Dry</td>\n      <td>Daylight</td>\n      <td>NaN</td>\n      <td>4323031.0</td>\n      <td>NaN</td>\n      <td>32</td>\n      <td>One parked--one moving</td>\n      <td>0</td>\n      <td>0</td>\n      <td>N</td>\n    </tr>\n    <tr>\n      <th>3</th>\n      <td>1</td>\n      <td>-122.334803</td>\n      <td>47.604803</td>\n      <td>4</td>\n      <td>1144</td>\n      <td>1144</td>\n      <td>3503937</td>\n      <td>Matched</td>\n      <td>Block</td>\n      <td>NaN</td>\n      <td>...</td>\n      <td>Dry</td>\n      <td>Daylight</td>\n      <td>NaN</td>\n      <td>NaN</td>\n      <td>NaN</td>\n      <td>23</td>\n      <td>From same direction - all others</td>\n      <td>0</td>\n      <td>0</td>\n      <td>N</td>\n    </tr>\n    <tr>\n      <th>4</th>\n      <td>2</td>\n      <td>-122.306426</td>\n      <td>47.545739</td>\n      <td>5</td>\n      <td>17700</td>\n      <td>17700</td>\n      <td>1807429</td>\n      <td>Matched</td>\n      <td>Intersection</td>\n      <td>34387.0</td>\n      <td>...</td>\n      <td>Wet</td>\n      <td>Daylight</td>\n      <td>NaN</td>\n      <td>4028032.0</td>\n      <td>NaN</td>\n      <td>10</td>\n      <td>Entering at angle</td>\n      <td>0</td>\n      <td>0</td>\n      <td>N</td>\n    </tr>\n  </tbody>\n</table>\n<p>5 rows \u00d7 38 columns</p>\n</div>",
                        "text/plain": "   SEVERITYCODE           X          Y  OBJECTID  INCKEY  COLDETKEY REPORTNO  \\\n0             2 -122.323148  47.703140         1    1307       1307  3502005   \n1             1 -122.347294  47.647172         2   52200      52200  2607959   \n2             1 -122.334540  47.607871         3   26700      26700  1482393   \n3             1 -122.334803  47.604803         4    1144       1144  3503937   \n4             2 -122.306426  47.545739         5   17700      17700  1807429   \n\n    STATUS      ADDRTYPE   INTKEY  ... ROADCOND                LIGHTCOND  \\\n0  Matched  Intersection  37475.0  ...      Wet                 Daylight   \n1  Matched         Block      NaN  ...      Wet  Dark - Street Lights On   \n2  Matched         Block      NaN  ...      Dry                 Daylight   \n3  Matched         Block      NaN  ...      Dry                 Daylight   \n4  Matched  Intersection  34387.0  ...      Wet                 Daylight   \n\n  PEDROWNOTGRNT  SDOTCOLNUM SPEEDING ST_COLCODE  \\\n0           NaN         NaN      NaN         10   \n1           NaN   6354039.0      NaN         11   \n2           NaN   4323031.0      NaN         32   \n3           NaN         NaN      NaN         23   \n4           NaN   4028032.0      NaN         10   \n\n                                          ST_COLDESC  SEGLANEKEY  \\\n0                                  Entering at angle           0   \n1  From same direction - both going straight - bo...           0   \n2                             One parked--one moving           0   \n3                   From same direction - all others           0   \n4                                  Entering at angle           0   \n\n   CROSSWALKKEY  HITPARKEDCAR  \n0             0             N  \n1             0             N  \n2             0             N  \n3             0             N  \n4             0             N  \n\n[5 rows x 38 columns]"
                    },
                    "execution_count": 8,
                    "metadata": {},
                    "output_type": "execute_result"
                }
            ],
            "source": "# The code was removed by Watson Studio for sharing."
        },
        {
            "cell_type": "code",
            "execution_count": 9,
            "metadata": {},
            "outputs": [
                {
                    "data": {
                        "text/html": "<div>\n<style scoped>\n    .dataframe tbody tr th:only-of-type {\n        vertical-align: middle;\n    }\n\n    .dataframe tbody tr th {\n        vertical-align: top;\n    }\n\n    .dataframe thead th {\n        text-align: right;\n    }\n</style>\n<table border=\"1\" class=\"dataframe\">\n  <thead>\n    <tr style=\"text-align: right;\">\n      <th></th>\n      <th>0</th>\n    </tr>\n  </thead>\n  <tbody>\n    <tr>\n      <th>SEVERITYCODE</th>\n      <td>int64</td>\n    </tr>\n    <tr>\n      <th>X</th>\n      <td>float64</td>\n    </tr>\n    <tr>\n      <th>Y</th>\n      <td>float64</td>\n    </tr>\n    <tr>\n      <th>OBJECTID</th>\n      <td>int64</td>\n    </tr>\n    <tr>\n      <th>INCKEY</th>\n      <td>int64</td>\n    </tr>\n    <tr>\n      <th>COLDETKEY</th>\n      <td>int64</td>\n    </tr>\n    <tr>\n      <th>REPORTNO</th>\n      <td>object</td>\n    </tr>\n    <tr>\n      <th>STATUS</th>\n      <td>object</td>\n    </tr>\n    <tr>\n      <th>ADDRTYPE</th>\n      <td>object</td>\n    </tr>\n    <tr>\n      <th>INTKEY</th>\n      <td>float64</td>\n    </tr>\n    <tr>\n      <th>LOCATION</th>\n      <td>object</td>\n    </tr>\n    <tr>\n      <th>EXCEPTRSNCODE</th>\n      <td>object</td>\n    </tr>\n    <tr>\n      <th>EXCEPTRSNDESC</th>\n      <td>object</td>\n    </tr>\n    <tr>\n      <th>SEVERITYCODE.1</th>\n      <td>int64</td>\n    </tr>\n    <tr>\n      <th>SEVERITYDESC</th>\n      <td>object</td>\n    </tr>\n    <tr>\n      <th>COLLISIONTYPE</th>\n      <td>object</td>\n    </tr>\n    <tr>\n      <th>PERSONCOUNT</th>\n      <td>int64</td>\n    </tr>\n    <tr>\n      <th>PEDCOUNT</th>\n      <td>int64</td>\n    </tr>\n    <tr>\n      <th>PEDCYLCOUNT</th>\n      <td>int64</td>\n    </tr>\n    <tr>\n      <th>VEHCOUNT</th>\n      <td>int64</td>\n    </tr>\n    <tr>\n      <th>INCDATE</th>\n      <td>object</td>\n    </tr>\n    <tr>\n      <th>INCDTTM</th>\n      <td>object</td>\n    </tr>\n    <tr>\n      <th>JUNCTIONTYPE</th>\n      <td>object</td>\n    </tr>\n    <tr>\n      <th>SDOT_COLCODE</th>\n      <td>int64</td>\n    </tr>\n    <tr>\n      <th>SDOT_COLDESC</th>\n      <td>object</td>\n    </tr>\n    <tr>\n      <th>INATTENTIONIND</th>\n      <td>object</td>\n    </tr>\n    <tr>\n      <th>UNDERINFL</th>\n      <td>object</td>\n    </tr>\n    <tr>\n      <th>WEATHER</th>\n      <td>object</td>\n    </tr>\n    <tr>\n      <th>ROADCOND</th>\n      <td>object</td>\n    </tr>\n    <tr>\n      <th>LIGHTCOND</th>\n      <td>object</td>\n    </tr>\n    <tr>\n      <th>PEDROWNOTGRNT</th>\n      <td>object</td>\n    </tr>\n    <tr>\n      <th>SDOTCOLNUM</th>\n      <td>float64</td>\n    </tr>\n    <tr>\n      <th>SPEEDING</th>\n      <td>object</td>\n    </tr>\n    <tr>\n      <th>ST_COLCODE</th>\n      <td>object</td>\n    </tr>\n    <tr>\n      <th>ST_COLDESC</th>\n      <td>object</td>\n    </tr>\n    <tr>\n      <th>SEGLANEKEY</th>\n      <td>int64</td>\n    </tr>\n    <tr>\n      <th>CROSSWALKKEY</th>\n      <td>int64</td>\n    </tr>\n    <tr>\n      <th>HITPARKEDCAR</th>\n      <td>object</td>\n    </tr>\n  </tbody>\n</table>\n</div>",
                        "text/plain": "                      0\nSEVERITYCODE      int64\nX               float64\nY               float64\nOBJECTID          int64\nINCKEY            int64\nCOLDETKEY         int64\nREPORTNO         object\nSTATUS           object\nADDRTYPE         object\nINTKEY          float64\nLOCATION         object\nEXCEPTRSNCODE    object\nEXCEPTRSNDESC    object\nSEVERITYCODE.1    int64\nSEVERITYDESC     object\nCOLLISIONTYPE    object\nPERSONCOUNT       int64\nPEDCOUNT          int64\nPEDCYLCOUNT       int64\nVEHCOUNT          int64\nINCDATE          object\nINCDTTM          object\nJUNCTIONTYPE     object\nSDOT_COLCODE      int64\nSDOT_COLDESC     object\nINATTENTIONIND   object\nUNDERINFL        object\nWEATHER          object\nROADCOND         object\nLIGHTCOND        object\nPEDROWNOTGRNT    object\nSDOTCOLNUM      float64\nSPEEDING         object\nST_COLCODE       object\nST_COLDESC       object\nSEGLANEKEY        int64\nCROSSWALKKEY      int64\nHITPARKEDCAR     object"
                    },
                    "execution_count": 9,
                    "metadata": {},
                    "output_type": "execute_result"
                }
            ],
            "source": "df_data_1.dtypes.to_frame()"
        },
        {
            "cell_type": "code",
            "execution_count": 10,
            "metadata": {},
            "outputs": [],
            "source": "severity_desc = \"A code that corresponds to the severity of the collision\""
        },
        {
            "cell_type": "code",
            "execution_count": 11,
            "metadata": {},
            "outputs": [
                {
                    "data": {
                        "text/html": "<div>\n<style scoped>\n    .dataframe tbody tr th:only-of-type {\n        vertical-align: middle;\n    }\n\n    .dataframe tbody tr th {\n        vertical-align: top;\n    }\n\n    .dataframe thead th {\n        text-align: right;\n    }\n</style>\n<table border=\"1\" class=\"dataframe\">\n  <thead>\n    <tr style=\"text-align: right;\">\n      <th></th>\n      <th></th>\n    </tr>\n    <tr>\n      <th>Variable</th>\n      <th>Description</th>\n    </tr>\n  </thead>\n  <tbody>\n    <tr>\n      <th>SEVERITYCODE</th>\n      <th>A code that corresponds to the severity of the collision</th>\n    </tr>\n    <tr>\n      <th>WEATHER</th>\n      <th>A description of the weather conditions during the time of the collision.</th>\n    </tr>\n    <tr>\n      <th>ROADCOND</th>\n      <th>The condition of the road during the collision.</th>\n    </tr>\n    <tr>\n      <th>LIGHTCOND</th>\n      <th>The light conditions during the collision.</th>\n    </tr>\n    <tr>\n      <th>UNDERINFL</th>\n      <th>Whether or not a driver involved was under the influence of drugs or alcohol.</th>\n    </tr>\n  </tbody>\n</table>\n</div>",
                        "text/plain": "Empty DataFrame\nColumns: []\nIndex: [(SEVERITYCODE, A code that corresponds to the severity of the collision), (WEATHER, A description of the weather conditions during the time of the collision.), (ROADCOND, The condition of the road during the collision.), (LIGHTCOND, The light conditions during the collision.), (UNDERINFL, Whether or not a driver involved was under the influence of drugs or alcohol.)]"
                    },
                    "execution_count": 11,
                    "metadata": {},
                    "output_type": "execute_result"
                }
            ],
            "source": "info_report = pd.DataFrame(data=np.array([[\"SEVERITYCODE\", severity_desc],\n                                     [\"WEATHER\", \"A description of the weather conditions during the time of the collision.\"],\n                                    [\"ROADCOND\", \"The condition of the road during the collision.\"],\n                                    [\"LIGHTCOND\", \"The light conditions during the collision.\" ],\n                                         [\"UNDERINFL\", \"Whether or not a driver involved was under the influence of drugs or alcohol.\" ]]), columns=[\"Variable\", \"Description\"])\ninfo_report = info_report.set_index([\"Variable\", \"Description\"])\ninfo_report.style.set_properties(**{'text-align': 'middle'})\ninfo_report"
        },
        {
            "cell_type": "markdown",
            "metadata": {},
            "source": "Severity Code Description:\n\n- 3: fatality\n- 2b: serious injury\n- 2: injury\n- 1: prop damage\n- 0: unknown"
        },
        {
            "cell_type": "markdown",
            "metadata": {},
            "source": "\nThe focused dataset is shown below and only contains data regarding the severity of each accident, the weather, road and light conditions, together with data relating to the presence of a driver under the influence."
        },
        {
            "cell_type": "code",
            "execution_count": 12,
            "metadata": {},
            "outputs": [
                {
                    "data": {
                        "text/html": "<div>\n<style scoped>\n    .dataframe tbody tr th:only-of-type {\n        vertical-align: middle;\n    }\n\n    .dataframe tbody tr th {\n        vertical-align: top;\n    }\n\n    .dataframe thead th {\n        text-align: right;\n    }\n</style>\n<table border=\"1\" class=\"dataframe\">\n  <thead>\n    <tr style=\"text-align: right;\">\n      <th></th>\n      <th>SEVERITYCODE</th>\n      <th>WEATHER</th>\n      <th>ROADCOND</th>\n      <th>LIGHTCOND</th>\n      <th>UNDERINFL</th>\n    </tr>\n  </thead>\n  <tbody>\n    <tr>\n      <th>0</th>\n      <td>2</td>\n      <td>Overcast</td>\n      <td>Wet</td>\n      <td>Daylight</td>\n      <td>N</td>\n    </tr>\n    <tr>\n      <th>1</th>\n      <td>1</td>\n      <td>Raining</td>\n      <td>Wet</td>\n      <td>Dark - Street Lights On</td>\n      <td>0</td>\n    </tr>\n    <tr>\n      <th>2</th>\n      <td>1</td>\n      <td>Overcast</td>\n      <td>Dry</td>\n      <td>Daylight</td>\n      <td>0</td>\n    </tr>\n    <tr>\n      <th>3</th>\n      <td>1</td>\n      <td>Clear</td>\n      <td>Dry</td>\n      <td>Daylight</td>\n      <td>N</td>\n    </tr>\n    <tr>\n      <th>4</th>\n      <td>2</td>\n      <td>Raining</td>\n      <td>Wet</td>\n      <td>Daylight</td>\n      <td>0</td>\n    </tr>\n  </tbody>\n</table>\n</div>",
                        "text/plain": "   SEVERITYCODE   WEATHER ROADCOND                LIGHTCOND UNDERINFL\n0             2  Overcast      Wet                 Daylight         N\n1             1   Raining      Wet  Dark - Street Lights On         0\n2             1  Overcast      Dry                 Daylight         0\n3             1     Clear      Dry                 Daylight         N\n4             2   Raining      Wet                 Daylight         0"
                    },
                    "execution_count": 12,
                    "metadata": {},
                    "output_type": "execute_result"
                }
            ],
            "source": "df_data = df_data_1.filter([\"SEVERITYCODE\", \"WEATHER\", \"ROADCOND\", \"LIGHTCOND\", \"UNDERINFL\"], axis = 1)\ndf_data.head()"
        },
        {
            "cell_type": "markdown",
            "metadata": {},
            "source": "In order to prepare the data, I first had to look at the types of data that I will be working with. As you can see in the succeeding output, severity is measured by integers while my other variables are object types. Before modifying the data types, I first wanted to see more basic information about my chosen variables."
        },
        {
            "cell_type": "code",
            "execution_count": 13,
            "metadata": {},
            "outputs": [
                {
                    "data": {
                        "text/plain": "SEVERITYCODE     int64\nWEATHER         object\nROADCOND        object\nLIGHTCOND       object\nUNDERINFL       object\ndtype: object"
                    },
                    "execution_count": 13,
                    "metadata": {},
                    "output_type": "execute_result"
                }
            ],
            "source": "df_data.dtypes"
        },
        {
            "cell_type": "markdown",
            "metadata": {},
            "source": "\nFirstly, I examined the road conditions dataframe and found that most of the accidents occured with dry road conditions. Therefore, I can convert this variable into a categorical variable with binary numbers. By clustering all the other road conditions together as one 'other' road condition, I can set the type of this variable to integer as well, with 1s and 0s representing dry or other"
        },
        {
            "cell_type": "code",
            "execution_count": 14,
            "metadata": {
                "scrolled": true
            },
            "outputs": [
                {
                    "data": {
                        "text/html": "<div>\n<style scoped>\n    .dataframe tbody tr th:only-of-type {\n        vertical-align: middle;\n    }\n\n    .dataframe tbody tr th {\n        vertical-align: top;\n    }\n\n    .dataframe thead th {\n        text-align: right;\n    }\n</style>\n<table border=\"1\" class=\"dataframe\">\n  <thead>\n    <tr style=\"text-align: right;\">\n      <th></th>\n      <th>ROADCOND</th>\n    </tr>\n  </thead>\n  <tbody>\n    <tr>\n      <th>Dry</th>\n      <td>124510</td>\n    </tr>\n    <tr>\n      <th>Wet</th>\n      <td>47474</td>\n    </tr>\n    <tr>\n      <th>Unknown</th>\n      <td>15078</td>\n    </tr>\n    <tr>\n      <th>Ice</th>\n      <td>1209</td>\n    </tr>\n    <tr>\n      <th>Snow/Slush</th>\n      <td>1004</td>\n    </tr>\n    <tr>\n      <th>Other</th>\n      <td>132</td>\n    </tr>\n    <tr>\n      <th>Standing Water</th>\n      <td>115</td>\n    </tr>\n    <tr>\n      <th>Sand/Mud/Dirt</th>\n      <td>75</td>\n    </tr>\n    <tr>\n      <th>Oil</th>\n      <td>64</td>\n    </tr>\n  </tbody>\n</table>\n</div>",
                        "text/plain": "                ROADCOND\nDry               124510\nWet                47474\nUnknown            15078\nIce                 1209\nSnow/Slush          1004\nOther                132\nStanding Water       115\nSand/Mud/Dirt         75\nOil                   64"
                    },
                    "execution_count": 14,
                    "metadata": {},
                    "output_type": "execute_result"
                }
            ],
            "source": "df_data_1[\"ROADCOND\"].value_counts().to_frame()"
        },
        {
            "cell_type": "code",
            "execution_count": 15,
            "metadata": {},
            "outputs": [],
            "source": "import seaborn as sns"
        },
        {
            "cell_type": "code",
            "execution_count": 20,
            "metadata": {},
            "outputs": [
                {
                    "data": {
                        "image/png": "[encoded data removed]",
                        "text/plain": "<Figure size 432x288 with 1 Axes>"
                    },
                    "metadata": {
                        "needs_background": "light"
                    },
                    "output_type": "display_data"
                }
            ],
            "source": "import matplotlib.pyplot as plt\nroad_count = df_data_1[\"ROADCOND\"].value_counts()\nsns.barplot(road_count.index, road_count.values, alpha = 0.8)\nplt.title('Road Conditions Value Counts')\nplt.ylabel('Number of Occurrences', fontsize=12)\nplt.xlabel('Road Conditions', fontsize=12)\nplt.xticks(rotation='vertical')\nplt.show()"
        },
        {
            "cell_type": "markdown",
            "metadata": {},
            "source": "\nSimilarly, light conditions can also be converted to binary figures by clumping together other light conditions besides 'Daylight', especially since other light conditions can mostly be considered relatively dark."
        },
        {
            "cell_type": "code",
            "execution_count": 21,
            "metadata": {
                "scrolled": true
            },
            "outputs": [
                {
                    "data": {
                        "text/html": "<div>\n<style scoped>\n    .dataframe tbody tr th:only-of-type {\n        vertical-align: middle;\n    }\n\n    .dataframe tbody tr th {\n        vertical-align: top;\n    }\n\n    .dataframe thead th {\n        text-align: right;\n    }\n</style>\n<table border=\"1\" class=\"dataframe\">\n  <thead>\n    <tr style=\"text-align: right;\">\n      <th></th>\n      <th>LIGHTCOND</th>\n    </tr>\n  </thead>\n  <tbody>\n    <tr>\n      <th>Daylight</th>\n      <td>116137</td>\n    </tr>\n    <tr>\n      <th>Dark - Street Lights On</th>\n      <td>48507</td>\n    </tr>\n    <tr>\n      <th>Unknown</th>\n      <td>13473</td>\n    </tr>\n    <tr>\n      <th>Dusk</th>\n      <td>5902</td>\n    </tr>\n    <tr>\n      <th>Dawn</th>\n      <td>2502</td>\n    </tr>\n    <tr>\n      <th>Dark - No Street Lights</th>\n      <td>1537</td>\n    </tr>\n    <tr>\n      <th>Dark - Street Lights Off</th>\n      <td>1199</td>\n    </tr>\n    <tr>\n      <th>Other</th>\n      <td>235</td>\n    </tr>\n    <tr>\n      <th>Dark - Unknown Lighting</th>\n      <td>11</td>\n    </tr>\n  </tbody>\n</table>\n</div>",
                        "text/plain": "                          LIGHTCOND\nDaylight                     116137\nDark - Street Lights On       48507\nUnknown                       13473\nDusk                           5902\nDawn                           2502\nDark - No Street Lights        1537\nDark - Street Lights Off       1199\nOther                           235\nDark - Unknown Lighting          11"
                    },
                    "execution_count": 21,
                    "metadata": {},
                    "output_type": "execute_result"
                }
            ],
            "source": "df_data_1[\"LIGHTCOND\"].value_counts().to_frame()"
        },
        {
            "cell_type": "code",
            "execution_count": 22,
            "metadata": {},
            "outputs": [
                {
                    "data": {
                        "image/png": "[encoded data removed]",
                        "text/plain": "<Figure size 432x288 with 1 Axes>"
                    },
                    "metadata": {
                        "needs_background": "light"
                    },
                    "output_type": "display_data"
                }
            ],
            "source": "light_count = df_data_1[\"LIGHTCOND\"].value_counts()\nsns.barplot(light_count.index, light_count.values, alpha = 0.8)\nplt.title('Light Conditions Value Counts')\nplt.ylabel('Number of Occurrences', fontsize=12)\nplt.xlabel('Light Conditions', fontsize=12)\nplt.xticks(rotation='vertical')\nplt.show()"
        },
        {
            "cell_type": "markdown",
            "metadata": {},
            "source": "The weather variable will also follow its preceding variables and can be converted into a categorical, binary variable with clear weather being represented by 1 and other weather types as 0."
        },
        {
            "cell_type": "code",
            "execution_count": 23,
            "metadata": {
                "scrolled": true
            },
            "outputs": [
                {
                    "data": {
                        "text/html": "<div>\n<style scoped>\n    .dataframe tbody tr th:only-of-type {\n        vertical-align: middle;\n    }\n\n    .dataframe tbody tr th {\n        vertical-align: top;\n    }\n\n    .dataframe thead th {\n        text-align: right;\n    }\n</style>\n<table border=\"1\" class=\"dataframe\">\n  <thead>\n    <tr style=\"text-align: right;\">\n      <th></th>\n      <th>WEATHER</th>\n    </tr>\n  </thead>\n  <tbody>\n    <tr>\n      <th>Clear</th>\n      <td>111135</td>\n    </tr>\n    <tr>\n      <th>Raining</th>\n      <td>33145</td>\n    </tr>\n    <tr>\n      <th>Overcast</th>\n      <td>27714</td>\n    </tr>\n    <tr>\n      <th>Unknown</th>\n      <td>15091</td>\n    </tr>\n    <tr>\n      <th>Snowing</th>\n      <td>907</td>\n    </tr>\n    <tr>\n      <th>Other</th>\n      <td>832</td>\n    </tr>\n    <tr>\n      <th>Fog/Smog/Smoke</th>\n      <td>569</td>\n    </tr>\n    <tr>\n      <th>Sleet/Hail/Freezing Rain</th>\n      <td>113</td>\n    </tr>\n    <tr>\n      <th>Blowing Sand/Dirt</th>\n      <td>56</td>\n    </tr>\n    <tr>\n      <th>Severe Crosswind</th>\n      <td>25</td>\n    </tr>\n    <tr>\n      <th>Partly Cloudy</th>\n      <td>5</td>\n    </tr>\n  </tbody>\n</table>\n</div>",
                        "text/plain": "                          WEATHER\nClear                      111135\nRaining                     33145\nOvercast                    27714\nUnknown                     15091\nSnowing                       907\nOther                         832\nFog/Smog/Smoke                569\nSleet/Hail/Freezing Rain      113\nBlowing Sand/Dirt              56\nSevere Crosswind               25\nPartly Cloudy                   5"
                    },
                    "execution_count": 23,
                    "metadata": {},
                    "output_type": "execute_result"
                }
            ],
            "source": "df_data_1[\"WEATHER\"].value_counts().to_frame()"
        },
        {
            "cell_type": "code",
            "execution_count": 24,
            "metadata": {},
            "outputs": [
                {
                    "data": {
                        "image/png": "[encoded data removed]",
                        "text/plain": "<Figure size 432x288 with 1 Axes>"
                    },
                    "metadata": {
                        "needs_background": "light"
                    },
                    "output_type": "display_data"
                }
            ],
            "source": "weather_count = df_data_1[\"WEATHER\"].value_counts()\nsns.barplot(weather_count.index, weather_count.values, alpha = 0.8)\nplt.title('Weather Conditions Value Counts')\nplt.ylabel('Number of Occurrences', fontsize=12)\nplt.xlabel('Weather Conditions', fontsize=12)\nplt.xticks(rotation='vertical')\nplt.show()"
        },
        {
            "cell_type": "markdown",
            "metadata": {},
            "source": "Lastly, the 'Under the Influence' variable has been categorized with 'Y' and '0' representing yes, 'N' and '1' representing no. This variable can also be cleaned up to be more uniform and just use the binary numbers 1 and 0 to represent yes and no respectively."
        },
        {
            "cell_type": "code",
            "execution_count": 25,
            "metadata": {},
            "outputs": [
                {
                    "data": {
                        "text/html": "<div>\n<style scoped>\n    .dataframe tbody tr th:only-of-type {\n        vertical-align: middle;\n    }\n\n    .dataframe tbody tr th {\n        vertical-align: top;\n    }\n\n    .dataframe thead th {\n        text-align: right;\n    }\n</style>\n<table border=\"1\" class=\"dataframe\">\n  <thead>\n    <tr style=\"text-align: right;\">\n      <th></th>\n      <th>UNDERINFL</th>\n    </tr>\n  </thead>\n  <tbody>\n    <tr>\n      <th>N</th>\n      <td>100274</td>\n    </tr>\n    <tr>\n      <th>0</th>\n      <td>80394</td>\n    </tr>\n    <tr>\n      <th>Y</th>\n      <td>5126</td>\n    </tr>\n    <tr>\n      <th>1</th>\n      <td>3995</td>\n    </tr>\n  </tbody>\n</table>\n</div>",
                        "text/plain": "   UNDERINFL\nN     100274\n0      80394\nY       5126\n1       3995"
                    },
                    "execution_count": 25,
                    "metadata": {},
                    "output_type": "execute_result"
                }
            ],
            "source": "df_data_1[\"UNDERINFL\"].value_counts().to_frame()"
        },
        {
            "cell_type": "markdown",
            "metadata": {},
            "source": "Upon preparing my full dataset which will include all the categorical, independent variables, I should be able to manufacture a simple machine learning solution that will predict accident severity based on my chosen independent variables."
        },
        {
            "cell_type": "markdown",
            "metadata": {},
            "source": "### Data Preparation and Exploratory Data Analysis"
        },
        {
            "cell_type": "code",
            "execution_count": 26,
            "metadata": {},
            "outputs": [
                {
                    "name": "stdout",
                    "output_type": "stream",
                    "text": "done\n"
                }
            ],
            "source": "import itertools\nimport matplotlib.pyplot as plt\nfrom matplotlib.ticker import NullFormatter\nimport matplotlib.ticker as ticker\nfrom sklearn import preprocessing\n%matplotlib inline\nprint(\"done\")"
        },
        {
            "cell_type": "code",
            "execution_count": 27,
            "metadata": {},
            "outputs": [],
            "source": "df_data['WEATHER'] = df_data_1['WEATHER']\ndf_data['WEATHER'].fillna(0, inplace=True, downcast = 'infer')\ndf_data['WEATHER'].head()\ndf_data['WEATHER'].replace(to_replace=['Raining', 'Overcast', 'Unknown', 'Snowing', 'Other', 'Fog/Smog/Smoke', 'Sleet/Hail/Freezing Rain', 'Blowing Sand/Dirt',\\\n                                       'Severe Crosswind', 'Partly Cloudy', 'Clear'], value=[0,0,0,0,0,0,0,0,0,0,1],inplace=True)\n"
        },
        {
            "cell_type": "code",
            "execution_count": 28,
            "metadata": {},
            "outputs": [
                {
                    "data": {
                        "text/html": "<div>\n<style scoped>\n    .dataframe tbody tr th:only-of-type {\n        vertical-align: middle;\n    }\n\n    .dataframe tbody tr th {\n        vertical-align: top;\n    }\n\n    .dataframe thead th {\n        text-align: right;\n    }\n</style>\n<table border=\"1\" class=\"dataframe\">\n  <thead>\n    <tr style=\"text-align: right;\">\n      <th></th>\n      <th>WEATHER</th>\n    </tr>\n  </thead>\n  <tbody>\n    <tr>\n      <th>1</th>\n      <td>0.57088</td>\n    </tr>\n    <tr>\n      <th>0</th>\n      <td>0.42912</td>\n    </tr>\n  </tbody>\n</table>\n</div>",
                        "text/plain": "   WEATHER\n1  0.57088\n0  0.42912"
                    },
                    "execution_count": 28,
                    "metadata": {},
                    "output_type": "execute_result"
                }
            ],
            "source": "df_data['WEATHER'].value_counts(normalize=True).to_frame()"
        },
        {
            "cell_type": "code",
            "execution_count": 29,
            "metadata": {},
            "outputs": [
                {
                    "data": {
                        "text/html": "<div>\n<style scoped>\n    .dataframe tbody tr th:only-of-type {\n        vertical-align: middle;\n    }\n\n    .dataframe tbody tr th {\n        vertical-align: top;\n    }\n\n    .dataframe thead th {\n        text-align: right;\n    }\n</style>\n<table border=\"1\" class=\"dataframe\">\n  <thead>\n    <tr style=\"text-align: right;\">\n      <th></th>\n      <th>WEATHER</th>\n    </tr>\n  </thead>\n  <tbody>\n    <tr>\n      <th>Clear</th>\n      <td>0.586180</td>\n    </tr>\n    <tr>\n      <th>Raining</th>\n      <td>0.174823</td>\n    </tr>\n    <tr>\n      <th>Overcast</th>\n      <td>0.146177</td>\n    </tr>\n    <tr>\n      <th>Unknown</th>\n      <td>0.079597</td>\n    </tr>\n    <tr>\n      <th>Snowing</th>\n      <td>0.004784</td>\n    </tr>\n    <tr>\n      <th>Other</th>\n      <td>0.004388</td>\n    </tr>\n    <tr>\n      <th>Fog/Smog/Smoke</th>\n      <td>0.003001</td>\n    </tr>\n    <tr>\n      <th>Sleet/Hail/Freezing Rain</th>\n      <td>0.000596</td>\n    </tr>\n    <tr>\n      <th>Blowing Sand/Dirt</th>\n      <td>0.000295</td>\n    </tr>\n    <tr>\n      <th>Severe Crosswind</th>\n      <td>0.000132</td>\n    </tr>\n    <tr>\n      <th>Partly Cloudy</th>\n      <td>0.000026</td>\n    </tr>\n  </tbody>\n</table>\n</div>",
                        "text/plain": "                           WEATHER\nClear                     0.586180\nRaining                   0.174823\nOvercast                  0.146177\nUnknown                   0.079597\nSnowing                   0.004784\nOther                     0.004388\nFog/Smog/Smoke            0.003001\nSleet/Hail/Freezing Rain  0.000596\nBlowing Sand/Dirt         0.000295\nSevere Crosswind          0.000132\nPartly Cloudy             0.000026"
                    },
                    "execution_count": 29,
                    "metadata": {},
                    "output_type": "execute_result"
                }
            ],
            "source": "df_data_1['WEATHER'].value_counts(normalize = True).to_frame()"
        },
        {
            "cell_type": "code",
            "execution_count": 30,
            "metadata": {},
            "outputs": [],
            "source": "df_data['UNDERINFL'] = df_data_1['UNDERINFL']\ndf_data['UNDERINFL'].fillna(0, inplace=True, downcast = 'infer')\ndf_data['UNDERINFL'].replace(to_replace=['Y', '0', 'N', '1'], value=[1,1,0,0],inplace=True)"
        },
        {
            "cell_type": "code",
            "execution_count": 31,
            "metadata": {},
            "outputs": [
                {
                    "data": {
                        "text/html": "<div>\n<style scoped>\n    .dataframe tbody tr th:only-of-type {\n        vertical-align: middle;\n    }\n\n    .dataframe tbody tr th {\n        vertical-align: top;\n    }\n\n    .dataframe thead th {\n        text-align: right;\n    }\n</style>\n<table border=\"1\" class=\"dataframe\">\n  <thead>\n    <tr style=\"text-align: right;\">\n      <th></th>\n      <th>UNDERINFL</th>\n    </tr>\n  </thead>\n  <tbody>\n    <tr>\n      <th>0</th>\n      <td>0.560699</td>\n    </tr>\n    <tr>\n      <th>1</th>\n      <td>0.439301</td>\n    </tr>\n  </tbody>\n</table>\n</div>",
                        "text/plain": "   UNDERINFL\n0   0.560699\n1   0.439301"
                    },
                    "execution_count": 31,
                    "metadata": {},
                    "output_type": "execute_result"
                }
            ],
            "source": "df_data['UNDERINFL'].value_counts(normalize = True).to_frame()"
        },
        {
            "cell_type": "code",
            "execution_count": 32,
            "metadata": {},
            "outputs": [
                {
                    "data": {
                        "text/html": "<div>\n<style scoped>\n    .dataframe tbody tr th:only-of-type {\n        vertical-align: middle;\n    }\n\n    .dataframe tbody tr th {\n        vertical-align: top;\n    }\n\n    .dataframe thead th {\n        text-align: right;\n    }\n</style>\n<table border=\"1\" class=\"dataframe\">\n  <thead>\n    <tr style=\"text-align: right;\">\n      <th></th>\n      <th>UNDERINFL</th>\n    </tr>\n  </thead>\n  <tbody>\n    <tr>\n      <th>N</th>\n      <td>0.528345</td>\n    </tr>\n    <tr>\n      <th>0</th>\n      <td>0.423597</td>\n    </tr>\n    <tr>\n      <th>Y</th>\n      <td>0.027009</td>\n    </tr>\n    <tr>\n      <th>1</th>\n      <td>0.021050</td>\n    </tr>\n  </tbody>\n</table>\n</div>",
                        "text/plain": "   UNDERINFL\nN   0.528345\n0   0.423597\nY   0.027009\n1   0.021050"
                    },
                    "execution_count": 32,
                    "metadata": {},
                    "output_type": "execute_result"
                }
            ],
            "source": "df_data_1['UNDERINFL'].value_counts(normalize = True).to_frame()"
        },
        {
            "cell_type": "code",
            "execution_count": 33,
            "metadata": {},
            "outputs": [
                {
                    "data": {
                        "text/plain": "0    0\n1    1\n2    1\n3    0\n4    1\nName: UNDERINFL, dtype: int64"
                    },
                    "execution_count": 33,
                    "metadata": {},
                    "output_type": "execute_result"
                }
            ],
            "source": "df_data['UNDERINFL'].head()"
        },
        {
            "cell_type": "code",
            "execution_count": 34,
            "metadata": {},
            "outputs": [
                {
                    "data": {
                        "text/html": "<div>\n<style scoped>\n    .dataframe tbody tr th:only-of-type {\n        vertical-align: middle;\n    }\n\n    .dataframe tbody tr th {\n        vertical-align: top;\n    }\n\n    .dataframe thead th {\n        text-align: right;\n    }\n</style>\n<table border=\"1\" class=\"dataframe\">\n  <thead>\n    <tr style=\"text-align: right;\">\n      <th></th>\n      <th>SEVERITYCODE</th>\n      <th>WEATHER</th>\n      <th>ROADCOND</th>\n      <th>LIGHTCOND</th>\n      <th>UNDERINFL</th>\n    </tr>\n  </thead>\n  <tbody>\n    <tr>\n      <th>0</th>\n      <td>2</td>\n      <td>0</td>\n      <td>Wet</td>\n      <td>Daylight</td>\n      <td>0</td>\n    </tr>\n    <tr>\n      <th>1</th>\n      <td>1</td>\n      <td>0</td>\n      <td>Wet</td>\n      <td>Dark - Street Lights On</td>\n      <td>1</td>\n    </tr>\n    <tr>\n      <th>2</th>\n      <td>1</td>\n      <td>0</td>\n      <td>Dry</td>\n      <td>Daylight</td>\n      <td>1</td>\n    </tr>\n    <tr>\n      <th>3</th>\n      <td>1</td>\n      <td>1</td>\n      <td>Dry</td>\n      <td>Daylight</td>\n      <td>0</td>\n    </tr>\n    <tr>\n      <th>4</th>\n      <td>2</td>\n      <td>0</td>\n      <td>Wet</td>\n      <td>Daylight</td>\n      <td>1</td>\n    </tr>\n  </tbody>\n</table>\n</div>",
                        "text/plain": "   SEVERITYCODE  WEATHER ROADCOND                LIGHTCOND  UNDERINFL\n0             2        0      Wet                 Daylight          0\n1             1        0      Wet  Dark - Street Lights On          1\n2             1        0      Dry                 Daylight          1\n3             1        1      Dry                 Daylight          0\n4             2        0      Wet                 Daylight          1"
                    },
                    "execution_count": 34,
                    "metadata": {},
                    "output_type": "execute_result"
                }
            ],
            "source": "df_data.head()"
        },
        {
            "cell_type": "code",
            "execution_count": 35,
            "metadata": {},
            "outputs": [
                {
                    "data": {
                        "text/html": "<div>\n<style scoped>\n    .dataframe tbody tr th:only-of-type {\n        vertical-align: middle;\n    }\n\n    .dataframe tbody tr th {\n        vertical-align: top;\n    }\n\n    .dataframe thead th {\n        text-align: right;\n    }\n</style>\n<table border=\"1\" class=\"dataframe\">\n  <thead>\n    <tr style=\"text-align: right;\">\n      <th></th>\n      <th>ROADCOND</th>\n    </tr>\n  </thead>\n  <tbody>\n    <tr>\n      <th>Dry</th>\n      <td>124510</td>\n    </tr>\n    <tr>\n      <th>Wet</th>\n      <td>47474</td>\n    </tr>\n    <tr>\n      <th>Unknown</th>\n      <td>15078</td>\n    </tr>\n    <tr>\n      <th>Ice</th>\n      <td>1209</td>\n    </tr>\n    <tr>\n      <th>Snow/Slush</th>\n      <td>1004</td>\n    </tr>\n    <tr>\n      <th>Other</th>\n      <td>132</td>\n    </tr>\n    <tr>\n      <th>Standing Water</th>\n      <td>115</td>\n    </tr>\n    <tr>\n      <th>Sand/Mud/Dirt</th>\n      <td>75</td>\n    </tr>\n    <tr>\n      <th>Oil</th>\n      <td>64</td>\n    </tr>\n  </tbody>\n</table>\n</div>",
                        "text/plain": "                ROADCOND\nDry               124510\nWet                47474\nUnknown            15078\nIce                 1209\nSnow/Slush          1004\nOther                132\nStanding Water       115\nSand/Mud/Dirt         75\nOil                   64"
                    },
                    "execution_count": 35,
                    "metadata": {},
                    "output_type": "execute_result"
                }
            ],
            "source": "df_data['ROADCOND'].value_counts().to_frame()"
        },
        {
            "cell_type": "code",
            "execution_count": 36,
            "metadata": {},
            "outputs": [],
            "source": "df_data['ROADCOND'].fillna(0, inplace=True, downcast = 'infer')\ndf_data['ROADCOND'].head()\ndf_data['ROADCOND'].replace(to_replace=['Dry', 'Wet', 'Unknown', 'Ice', 'Snow/Slush', 'Other', 'Standing Water', 'Sand/Mud/Dirt', 'Oil'], value=[1,0,0,0,0,0,0,0,0],inplace=True)"
        },
        {
            "cell_type": "code",
            "execution_count": 37,
            "metadata": {},
            "outputs": [
                {
                    "data": {
                        "text/plain": "0    0\n1    0\n2    1\n3    1\n4    0\nName: ROADCOND, dtype: int64"
                    },
                    "execution_count": 37,
                    "metadata": {},
                    "output_type": "execute_result"
                }
            ],
            "source": "df_data['ROADCOND'].head()"
        },
        {
            "cell_type": "code",
            "execution_count": 38,
            "metadata": {},
            "outputs": [
                {
                    "data": {
                        "text/html": "<div>\n<style scoped>\n    .dataframe tbody tr th:only-of-type {\n        vertical-align: middle;\n    }\n\n    .dataframe tbody tr th {\n        vertical-align: top;\n    }\n\n    .dataframe thead th {\n        text-align: right;\n    }\n</style>\n<table border=\"1\" class=\"dataframe\">\n  <thead>\n    <tr style=\"text-align: right;\">\n      <th></th>\n      <th>ROADCOND</th>\n    </tr>\n  </thead>\n  <tbody>\n    <tr>\n      <th>1</th>\n      <td>0.639585</td>\n    </tr>\n    <tr>\n      <th>0</th>\n      <td>0.360415</td>\n    </tr>\n  </tbody>\n</table>\n</div>",
                        "text/plain": "   ROADCOND\n1  0.639585\n0  0.360415"
                    },
                    "execution_count": 38,
                    "metadata": {},
                    "output_type": "execute_result"
                }
            ],
            "source": "df_data['ROADCOND'].value_counts(normalize = True).to_frame()"
        },
        {
            "cell_type": "code",
            "execution_count": 39,
            "metadata": {},
            "outputs": [
                {
                    "data": {
                        "text/html": "<div>\n<style scoped>\n    .dataframe tbody tr th:only-of-type {\n        vertical-align: middle;\n    }\n\n    .dataframe tbody tr th {\n        vertical-align: top;\n    }\n\n    .dataframe thead th {\n        text-align: right;\n    }\n</style>\n<table border=\"1\" class=\"dataframe\">\n  <thead>\n    <tr style=\"text-align: right;\">\n      <th></th>\n      <th>ROADCOND</th>\n    </tr>\n  </thead>\n  <tbody>\n    <tr>\n      <th>1</th>\n      <td>0.639585</td>\n    </tr>\n    <tr>\n      <th>0</th>\n      <td>0.360415</td>\n    </tr>\n  </tbody>\n</table>\n</div>",
                        "text/plain": "   ROADCOND\n1  0.639585\n0  0.360415"
                    },
                    "execution_count": 39,
                    "metadata": {},
                    "output_type": "execute_result"
                }
            ],
            "source": "df_data['ROADCOND'].value_counts(normalize = True).to_frame()"
        },
        {
            "cell_type": "code",
            "execution_count": 40,
            "metadata": {},
            "outputs": [
                {
                    "data": {
                        "text/html": "<div>\n<style scoped>\n    .dataframe tbody tr th:only-of-type {\n        vertical-align: middle;\n    }\n\n    .dataframe tbody tr th {\n        vertical-align: top;\n    }\n\n    .dataframe thead th {\n        text-align: right;\n    }\n</style>\n<table border=\"1\" class=\"dataframe\">\n  <thead>\n    <tr style=\"text-align: right;\">\n      <th></th>\n      <th>LIGHTCOND</th>\n    </tr>\n  </thead>\n  <tbody>\n    <tr>\n      <th>Daylight</th>\n      <td>116137</td>\n    </tr>\n    <tr>\n      <th>Dark - Street Lights On</th>\n      <td>48507</td>\n    </tr>\n    <tr>\n      <th>Unknown</th>\n      <td>13473</td>\n    </tr>\n    <tr>\n      <th>Dusk</th>\n      <td>5902</td>\n    </tr>\n    <tr>\n      <th>Dawn</th>\n      <td>2502</td>\n    </tr>\n    <tr>\n      <th>Dark - No Street Lights</th>\n      <td>1537</td>\n    </tr>\n    <tr>\n      <th>Dark - Street Lights Off</th>\n      <td>1199</td>\n    </tr>\n    <tr>\n      <th>Other</th>\n      <td>235</td>\n    </tr>\n    <tr>\n      <th>Dark - Unknown Lighting</th>\n      <td>11</td>\n    </tr>\n  </tbody>\n</table>\n</div>",
                        "text/plain": "                          LIGHTCOND\nDaylight                     116137\nDark - Street Lights On       48507\nUnknown                       13473\nDusk                           5902\nDawn                           2502\nDark - No Street Lights        1537\nDark - Street Lights Off       1199\nOther                           235\nDark - Unknown Lighting          11"
                    },
                    "execution_count": 40,
                    "metadata": {},
                    "output_type": "execute_result"
                }
            ],
            "source": "df_data['LIGHTCOND'].value_counts().to_frame()"
        },
        {
            "cell_type": "code",
            "execution_count": 41,
            "metadata": {},
            "outputs": [],
            "source": "df_data['LIGHTCOND'].fillna(0, inplace=True, downcast = 'infer')\ndf_data['LIGHTCOND'].head()\ndf_data['LIGHTCOND'].replace(to_replace=['Daylight', 'Dark - Street Lights On', 'Unknown', 'Dusk', 'Dawn', 'Dark - No Street Lights', \\\n                                        'Dark - Street Lights Off', 'Other', 'Dark - Unknown Lighting'], value=[1,0,0,0,0,0,0,0,0],inplace=True)"
        },
        {
            "cell_type": "code",
            "execution_count": 42,
            "metadata": {},
            "outputs": [
                {
                    "data": {
                        "text/html": "<div>\n<style scoped>\n    .dataframe tbody tr th:only-of-type {\n        vertical-align: middle;\n    }\n\n    .dataframe tbody tr th {\n        vertical-align: top;\n    }\n\n    .dataframe thead th {\n        text-align: right;\n    }\n</style>\n<table border=\"1\" class=\"dataframe\">\n  <thead>\n    <tr style=\"text-align: right;\">\n      <th></th>\n      <th>LIGHTCOND</th>\n    </tr>\n  </thead>\n  <tbody>\n    <tr>\n      <th>1</th>\n      <td>0.596575</td>\n    </tr>\n    <tr>\n      <th>0</th>\n      <td>0.403425</td>\n    </tr>\n  </tbody>\n</table>\n</div>",
                        "text/plain": "   LIGHTCOND\n1   0.596575\n0   0.403425"
                    },
                    "execution_count": 42,
                    "metadata": {},
                    "output_type": "execute_result"
                }
            ],
            "source": "df_data['LIGHTCOND'].value_counts(normalize = True).to_frame()"
        },
        {
            "cell_type": "code",
            "execution_count": 43,
            "metadata": {},
            "outputs": [
                {
                    "data": {
                        "text/html": "<div>\n<style scoped>\n    .dataframe tbody tr th:only-of-type {\n        vertical-align: middle;\n    }\n\n    .dataframe tbody tr th {\n        vertical-align: top;\n    }\n\n    .dataframe thead th {\n        text-align: right;\n    }\n</style>\n<table border=\"1\" class=\"dataframe\">\n  <thead>\n    <tr style=\"text-align: right;\">\n      <th></th>\n      <th>LIGHTCOND</th>\n    </tr>\n  </thead>\n  <tbody>\n    <tr>\n      <th>1</th>\n      <td>0.596575</td>\n    </tr>\n    <tr>\n      <th>0</th>\n      <td>0.403425</td>\n    </tr>\n  </tbody>\n</table>\n</div>",
                        "text/plain": "   LIGHTCOND\n1   0.596575\n0   0.403425"
                    },
                    "execution_count": 43,
                    "metadata": {},
                    "output_type": "execute_result"
                }
            ],
            "source": "df_data['LIGHTCOND'].value_counts(normalize = True).to_frame()"
        },
        {
            "cell_type": "markdown",
            "metadata": {},
            "source": "After cleaning up the independent variables, I took a look at my dependent variable: the severity code and found that, within the data set, there were only 2 variations of the severity code: 1 and 2. Therefore, the data claims that, since 2004, the accidents that have occured in the Seattle area have only caused property damage or mild injuries. Since there are only 2 variants in this set, I modified the figures to be more uniform with the rest of the new dataset by giving them the binary numbers 1 and 0."
        },
        {
            "cell_type": "code",
            "execution_count": 44,
            "metadata": {},
            "outputs": [
                {
                    "data": {
                        "text/html": "<div>\n<style scoped>\n    .dataframe tbody tr th:only-of-type {\n        vertical-align: middle;\n    }\n\n    .dataframe tbody tr th {\n        vertical-align: top;\n    }\n\n    .dataframe thead th {\n        text-align: right;\n    }\n</style>\n<table border=\"1\" class=\"dataframe\">\n  <thead>\n    <tr style=\"text-align: right;\">\n      <th></th>\n      <th>SEVERITYCODE</th>\n    </tr>\n  </thead>\n  <tbody>\n    <tr>\n      <th>1</th>\n      <td>136485</td>\n    </tr>\n    <tr>\n      <th>2</th>\n      <td>58188</td>\n    </tr>\n  </tbody>\n</table>\n</div>",
                        "text/plain": "   SEVERITYCODE\n1        136485\n2         58188"
                    },
                    "execution_count": 44,
                    "metadata": {},
                    "output_type": "execute_result"
                }
            ],
            "source": "df_data_1['SEVERITYCODE'].value_counts().to_frame()"
        },
        {
            "cell_type": "code",
            "execution_count": 45,
            "metadata": {},
            "outputs": [],
            "source": "df_data['SEVERITYCODE'].replace(to_replace=[1, 2], value=[0,1],inplace=True)"
        },
        {
            "cell_type": "code",
            "execution_count": 46,
            "metadata": {},
            "outputs": [
                {
                    "data": {
                        "text/html": "<div>\n<style scoped>\n    .dataframe tbody tr th:only-of-type {\n        vertical-align: middle;\n    }\n\n    .dataframe tbody tr th {\n        vertical-align: top;\n    }\n\n    .dataframe thead th {\n        text-align: right;\n    }\n</style>\n<table border=\"1\" class=\"dataframe\">\n  <thead>\n    <tr style=\"text-align: right;\">\n      <th></th>\n      <th>SEVERITYCODE</th>\n    </tr>\n  </thead>\n  <tbody>\n    <tr>\n      <th>0</th>\n      <td>0.701099</td>\n    </tr>\n    <tr>\n      <th>1</th>\n      <td>0.298901</td>\n    </tr>\n  </tbody>\n</table>\n</div>",
                        "text/plain": "   SEVERITYCODE\n0      0.701099\n1      0.298901"
                    },
                    "execution_count": 46,
                    "metadata": {},
                    "output_type": "execute_result"
                }
            ],
            "source": "df_data['SEVERITYCODE'].value_counts(normalize = True).to_frame()"
        },
        {
            "cell_type": "code",
            "execution_count": 47,
            "metadata": {},
            "outputs": [
                {
                    "data": {
                        "text/html": "<div>\n<style scoped>\n    .dataframe tbody tr th:only-of-type {\n        vertical-align: middle;\n    }\n\n    .dataframe tbody tr th {\n        vertical-align: top;\n    }\n\n    .dataframe thead th {\n        text-align: right;\n    }\n</style>\n<table border=\"1\" class=\"dataframe\">\n  <thead>\n    <tr style=\"text-align: right;\">\n      <th></th>\n      <th>SEVERITYCODE</th>\n      <th>WEATHER</th>\n      <th>ROADCOND</th>\n      <th>LIGHTCOND</th>\n      <th>UNDERINFL</th>\n    </tr>\n  </thead>\n  <tbody>\n    <tr>\n      <th>0</th>\n      <td>1</td>\n      <td>0</td>\n      <td>0</td>\n      <td>1</td>\n      <td>0</td>\n    </tr>\n    <tr>\n      <th>1</th>\n      <td>0</td>\n      <td>0</td>\n      <td>0</td>\n      <td>0</td>\n      <td>1</td>\n    </tr>\n    <tr>\n      <th>2</th>\n      <td>0</td>\n      <td>0</td>\n      <td>1</td>\n      <td>1</td>\n      <td>1</td>\n    </tr>\n    <tr>\n      <th>3</th>\n      <td>0</td>\n      <td>1</td>\n      <td>1</td>\n      <td>1</td>\n      <td>0</td>\n    </tr>\n    <tr>\n      <th>4</th>\n      <td>1</td>\n      <td>0</td>\n      <td>0</td>\n      <td>1</td>\n      <td>1</td>\n    </tr>\n  </tbody>\n</table>\n</div>",
                        "text/plain": "   SEVERITYCODE  WEATHER  ROADCOND  LIGHTCOND  UNDERINFL\n0             1        0         0          1          0\n1             0        0         0          0          1\n2             0        0         1          1          1\n3             0        1         1          1          0\n4             1        0         0          1          1"
                    },
                    "execution_count": 47,
                    "metadata": {},
                    "output_type": "execute_result"
                }
            ],
            "source": "df_data.head()"
        },
        {
            "cell_type": "markdown",
            "metadata": {},
            "source": "### Machine Learning Training (SVM and Logistic Regression)"
        },
        {
            "cell_type": "markdown",
            "metadata": {},
            "source": "Because I want to create a supervised machine learning program that can classify the data in the collisions dataset and utilize regression analysis to predict the severity of future accidents in the Seattle area, I wanted to use both the logistic regression and support vector machine (SVM) approaches. While I would hypothesize that this exploration would be modeled more accurately through a logistic regression approach because I want to create categorical predictions based on the collisions data, I still think it is worthwhile to test more than one classification method."
        },
        {
            "cell_type": "code",
            "execution_count": 48,
            "metadata": {},
            "outputs": [
                {
                    "data": {
                        "text/html": "<div>\n<style scoped>\n    .dataframe tbody tr th:only-of-type {\n        vertical-align: middle;\n    }\n\n    .dataframe tbody tr th {\n        vertical-align: top;\n    }\n\n    .dataframe thead th {\n        text-align: right;\n    }\n</style>\n<table border=\"1\" class=\"dataframe\">\n  <thead>\n    <tr style=\"text-align: right;\">\n      <th></th>\n      <th>WEATHER</th>\n      <th>ROADCOND</th>\n      <th>LIGHTCOND</th>\n      <th>UNDERINFL</th>\n    </tr>\n  </thead>\n  <tbody>\n    <tr>\n      <th>0</th>\n      <td>0</td>\n      <td>0</td>\n      <td>1</td>\n      <td>0</td>\n    </tr>\n    <tr>\n      <th>1</th>\n      <td>0</td>\n      <td>0</td>\n      <td>0</td>\n      <td>1</td>\n    </tr>\n    <tr>\n      <th>2</th>\n      <td>0</td>\n      <td>1</td>\n      <td>1</td>\n      <td>1</td>\n    </tr>\n    <tr>\n      <th>3</th>\n      <td>1</td>\n      <td>1</td>\n      <td>1</td>\n      <td>0</td>\n    </tr>\n    <tr>\n      <th>4</th>\n      <td>0</td>\n      <td>0</td>\n      <td>1</td>\n      <td>1</td>\n    </tr>\n  </tbody>\n</table>\n</div>",
                        "text/plain": "   WEATHER  ROADCOND  LIGHTCOND  UNDERINFL\n0        0         0          1          0\n1        0         0          0          1\n2        0         1          1          1\n3        1         1          1          0\n4        0         0          1          1"
                    },
                    "execution_count": 48,
                    "metadata": {},
                    "output_type": "execute_result"
                }
            ],
            "source": "X = df_data.filter(['WEATHER', 'ROADCOND', 'LIGHTCOND', 'UNDERINFL'], axis = 1)\nX.head()"
        },
        {
            "cell_type": "code",
            "execution_count": 49,
            "metadata": {},
            "outputs": [
                {
                    "data": {
                        "text/plain": "array([1, 0, 0, 0, 1])"
                    },
                    "execution_count": 49,
                    "metadata": {},
                    "output_type": "execute_result"
                }
            ],
            "source": "y = df_data['SEVERITYCODE'].values\ny[0:5]"
        },
        {
            "cell_type": "markdown",
            "metadata": {},
            "source": "Normalizing the data."
        },
        {
            "cell_type": "code",
            "execution_count": 50,
            "metadata": {},
            "outputs": [
                {
                    "name": "stderr",
                    "output_type": "stream",
                    "text": "/opt/conda/envs/Python36/lib/python3.6/site-packages/sklearn/preprocessing/data.py:645: DataConversionWarning: Data with input dtype int64 were all converted to float64 by StandardScaler.\n  return self.partial_fit(X, y)\n/opt/conda/envs/Python36/lib/python3.6/site-packages/ipykernel/__main__.py:1: DataConversionWarning: Data with input dtype int64 were all converted to float64 by StandardScaler.\n  if __name__ == '__main__':\n"
                },
                {
                    "data": {
                        "text/plain": "array([[-1.15340914, -1.33213439,  0.82233559, -0.88514824],\n       [-1.15340914, -1.33213439, -1.21604855,  1.12975427],\n       [-1.15340914,  0.75067501,  0.82233559,  1.12975427],\n       [ 0.86699503,  0.75067501,  0.82233559, -0.88514824],\n       [-1.15340914, -1.33213439,  0.82233559,  1.12975427]])"
                    },
                    "execution_count": 50,
                    "metadata": {},
                    "output_type": "execute_result"
                }
            ],
            "source": "X= preprocessing.StandardScaler().fit(X).transform(X)\nX[0:5]"
        },
        {
            "cell_type": "markdown",
            "metadata": {},
            "source": "### SVM"
        },
        {
            "cell_type": "markdown",
            "metadata": {},
            "source": "Upon first trying to create an SVM model for the collisions data, I found that the size of the dataset (almost 200,000 datapoints) caused issues with the largeness of the runtime complexity. Therefore, I decided to scale down my training set to 10,000 datapoints, using the normalized data."
        },
        {
            "cell_type": "code",
            "execution_count": 51,
            "metadata": {},
            "outputs": [
                {
                    "data": {
                        "text/plain": "[array([-1.15340914, -1.33213439,  0.82233559, -0.88514824]),\n array([-1.15340914, -1.33213439, -1.21604855,  1.12975427]),\n array([-1.15340914,  0.75067501,  0.82233559,  1.12975427]),\n array([ 0.86699503,  0.75067501,  0.82233559, -0.88514824]),\n array([-1.15340914, -1.33213439,  0.82233559,  1.12975427])]"
                    },
                    "execution_count": 51,
                    "metadata": {},
                    "output_type": "execute_result"
                }
            ],
            "source": "X_svm = []\ncounter = 0\nwhile counter < 10000:\n    X_svm.append(X[counter])\n    counter += 1\nX_svm[0:5]"
        },
        {
            "cell_type": "code",
            "execution_count": 52,
            "metadata": {},
            "outputs": [
                {
                    "data": {
                        "text/plain": "[1, 0, 0, 0, 1]"
                    },
                    "execution_count": 52,
                    "metadata": {},
                    "output_type": "execute_result"
                }
            ],
            "source": "y_svm = []\ncounter_y = 0\nwhile counter_y < 10000:\n    y_svm.append(y[counter_y])\n    counter_y += 1\ny_svm[0:5]"
        },
        {
            "cell_type": "code",
            "execution_count": 53,
            "metadata": {},
            "outputs": [
                {
                    "name": "stderr",
                    "output_type": "stream",
                    "text": "/opt/conda/envs/Python36/lib/python3.6/site-packages/sklearn/svm/base.py:196: FutureWarning: The default value of gamma will change from 'auto' to 'scale' in version 0.22 to account better for unscaled features. Set gamma explicitly to 'auto' or 'scale' to avoid this warning.\n  \"avoid this warning.\", FutureWarning)\n"
                },
                {
                    "data": {
                        "text/plain": "SVC(C=1.0, cache_size=200, class_weight=None, coef0=0.0,\n  decision_function_shape='ovr', degree=3, gamma='auto_deprecated',\n  kernel='rbf', max_iter=-1, probability=False, random_state=None,\n  shrinking=True, tol=0.001, verbose=False)"
                    },
                    "execution_count": 53,
                    "metadata": {},
                    "output_type": "execute_result"
                }
            ],
            "source": "from sklearn import svm\ncollisions_svm = svm.SVC(kernel='rbf')\ncollisions_svm.fit(X_svm, y_svm)\ncollisions_svm"
        },
        {
            "cell_type": "code",
            "execution_count": 54,
            "metadata": {},
            "outputs": [
                {
                    "name": "stdout",
                    "output_type": "stream",
                    "text": "Train set: (155738, 4) (155738,)\nTest set: (38935, 4) (38935,)\n"
                }
            ],
            "source": "from sklearn.model_selection import train_test_split\nX_train, X_test, y_train, y_test = train_test_split( X, y, test_size=0.2, random_state=4)\nprint ('Train set:', X_train.shape,  y_train.shape)\nprint ('Test set:', X_test.shape,  y_test.shape)"
        },
        {
            "cell_type": "markdown",
            "metadata": {},
            "source": "### Logistic Regression"
        },
        {
            "cell_type": "code",
            "execution_count": 55,
            "metadata": {},
            "outputs": [
                {
                    "data": {
                        "text/plain": "LogisticRegression(C=0.0001, class_weight=None, dual=False,\n          fit_intercept=True, intercept_scaling=1, max_iter=100,\n          multi_class='warn', n_jobs=None, penalty='l2', random_state=None,\n          solver='liblinear', tol=0.0001, verbose=0, warm_start=False)"
                    },
                    "execution_count": 55,
                    "metadata": {},
                    "output_type": "execute_result"
                }
            ],
            "source": "from sklearn.linear_model import LogisticRegression\ncollisions_logisticReg = LogisticRegression(C=0.0001, solver='liblinear').fit(X,y)\ncollisions_logisticReg"
        },
        {
            "cell_type": "code",
            "execution_count": 56,
            "metadata": {},
            "outputs": [
                {
                    "data": {
                        "text/plain": "LogisticRegression(C=0.0001, class_weight=None, dual=False,\n          fit_intercept=True, intercept_scaling=1, max_iter=100,\n          multi_class='warn', n_jobs=None, penalty='l2', random_state=None,\n          solver='liblinear', tol=0.0001, verbose=0, warm_start=False)"
                    },
                    "execution_count": 56,
                    "metadata": {},
                    "output_type": "execute_result"
                }
            ],
            "source": "from sklearn.linear_model import LogisticRegression\ncollisions_logisticReg_1 = LogisticRegression(C=0.0001, solver='liblinear').fit(X_train,y_train)\ncollisions_logisticReg_1"
        },
        {
            "cell_type": "code",
            "execution_count": 57,
            "metadata": {},
            "outputs": [
                {
                    "data": {
                        "text/plain": "array([0, 1])"
                    },
                    "execution_count": 57,
                    "metadata": {},
                    "output_type": "execute_result"
                }
            ],
            "source": "collisions_logisticReg_1.classes_"
        },
        {
            "cell_type": "code",
            "execution_count": 58,
            "metadata": {},
            "outputs": [
                {
                    "data": {
                        "text/plain": "array([-0.65933487])"
                    },
                    "execution_count": 58,
                    "metadata": {},
                    "output_type": "execute_result"
                }
            ],
            "source": "collisions_logisticReg_1.intercept_"
        },
        {
            "cell_type": "code",
            "execution_count": 59,
            "metadata": {
                "scrolled": true
            },
            "outputs": [
                {
                    "data": {
                        "text/plain": "array([[ 0.03771279,  0.05758869,  0.12211727, -0.03975103]])"
                    },
                    "execution_count": 59,
                    "metadata": {},
                    "output_type": "execute_result"
                }
            ],
            "source": "collisions_logisticReg_1.coef_"
        },
        {
            "cell_type": "markdown",
            "metadata": {},
            "source": "After creating the logistic regression model for the collisions data, I used the model to predict the probability of obtaining 1s and 0s for each set of independent variable values. As you can see in the figure below, it seems that almost all the datapoints have a higher probability of returning as 0s, meaning that most or all future accidents would only cause minimal property damage."
        },
        {
            "cell_type": "code",
            "execution_count": 60,
            "metadata": {
                "scrolled": true
            },
            "outputs": [
                {
                    "data": {
                        "text/plain": "array([[0.65564403, 0.34435597],\n       [0.72570878, 0.27429122],\n       [0.64659154, 0.35340846],\n       ...,\n       [0.61011622, 0.38988378],\n       [0.66746074, 0.33253926],\n       [0.63824315, 0.36175685]])"
                    },
                    "execution_count": 60,
                    "metadata": {},
                    "output_type": "execute_result"
                }
            ],
            "source": "collisions_logisticReg_1.predict_proba(X)"
        },
        {
            "cell_type": "code",
            "execution_count": 61,
            "metadata": {},
            "outputs": [],
            "source": "collisions_probabilities = collisions_logisticReg_1.predict_proba(X)"
        },
        {
            "cell_type": "code",
            "execution_count": 62,
            "metadata": {},
            "outputs": [
                {
                    "name": "stdout",
                    "output_type": "stream",
                    "text": "0.7257087842965189\n"
                }
            ],
            "source": "print(collisions_probabilities[1][0])"
        },
        {
            "cell_type": "code",
            "execution_count": 63,
            "metadata": {},
            "outputs": [
                {
                    "data": {
                        "text/plain": "194673"
                    },
                    "execution_count": 63,
                    "metadata": {},
                    "output_type": "execute_result"
                }
            ],
            "source": "len(collisions_probabilities)"
        },
        {
            "cell_type": "code",
            "execution_count": 66,
            "metadata": {},
            "outputs": [
                {
                    "name": "stdout",
                    "output_type": "stream",
                    "text": "0.610116215076514\n"
                }
            ],
            "source": "counter_2 = 0\nset_1 = []\nwhile counter_2 < len(collisions_probabilities):\n    set_1.append(collisions_probabilities[counter_2][0])\n    counter_2 +=1\nprint(min(set_1))"
        },
        {
            "cell_type": "code",
            "execution_count": 68,
            "metadata": {},
            "outputs": [
                {
                    "name": "stdout",
                    "output_type": "stream",
                    "text": "0.3898837849234859\n"
                }
            ],
            "source": "counter_3 = 0\nset_2 = []\nwhile counter_3 < len(collisions_probabilities):\n    set_2.append(collisions_probabilities[counter_3][1])\n    counter_3 +=1\nprint(max(set_2))"
        },
        {
            "cell_type": "code",
            "execution_count": 64,
            "metadata": {},
            "outputs": [
                {
                    "name": "stdout",
                    "output_type": "stream",
                    "text": "0.6580072017625456\n"
                }
            ],
            "source": "prob_1 = 0\ncounter = 0\nwhile counter < len(collisions_probabilities):\n    prob_1 += collisions_probabilities[counter][0]\n    counter += 1\nprob_1final = prob_1/len(collisions_probabilities)\nprint(prob_1final)"
        },
        {
            "cell_type": "code",
            "execution_count": 65,
            "metadata": {},
            "outputs": [
                {
                    "name": "stdout",
                    "output_type": "stream",
                    "text": "0.34199279823851964\n"
                }
            ],
            "source": "prob_1 = 0\ncounter = 0\nwhile counter < len(collisions_probabilities):\n    prob_1 += collisions_probabilities[counter][1]\n    counter += 1\nprob_1final = prob_1/len(collisions_probabilities)\nprint(prob_1final)"
        },
        {
            "cell_type": "markdown",
            "metadata": {},
            "source": "The pie chart below depicts the average probabilities for each type of severity present in the data as outputted by the logistic regression model."
        },
        {
            "cell_type": "code",
            "execution_count": 103,
            "metadata": {},
            "outputs": [
                {
                    "data": {
                        "image/png": "[encoded data removed]",
                        "text/plain": "<Figure size 432x288 with 1 Axes>"
                    },
                    "metadata": {},
                    "output_type": "display_data"
                }
            ],
            "source": "# Data to plot\nlabels = 'Property Damage: 0', 'Minor Injury: 1'\nsizes = [0.6580072017625456,0.34199279823851964]\ncolors = ['red', 'blue']\nexplode = (0.1,0)  # explode 1st slice\n# Plot\nplt.pie(sizes, explode=explode, labels=labels, colors=colors,\nautopct='%1.1f%%', shadow=True, startangle=140)\n\nplt.axis('equal')\nplt.show()"
        },
        {
            "cell_type": "code",
            "execution_count": 46,
            "metadata": {},
            "outputs": [
                {
                    "data": {
                        "text/plain": "array([0, 0, 0, ..., 0, 0, 0])"
                    },
                    "execution_count": 46,
                    "metadata": {},
                    "output_type": "execute_result"
                }
            ],
            "source": "collisions_logisticReg_1.predict(X)"
        },
        {
            "cell_type": "markdown",
            "metadata": {},
            "source": "### Model Evaluation with a Test Set"
        },
        {
            "cell_type": "code",
            "execution_count": 47,
            "metadata": {},
            "outputs": [
                {
                    "name": "stdout",
                    "output_type": "stream",
                    "text": "done\n"
                }
            ],
            "source": "from sklearn import metrics\nfrom sklearn.metrics import jaccard_similarity_score\nfrom sklearn.metrics import f1_score\nfrom sklearn.metrics import log_loss\nprint('done')"
        },
        {
            "cell_type": "code",
            "execution_count": 48,
            "metadata": {},
            "outputs": [
                {
                    "name": "stdout",
                    "output_type": "stream",
                    "text": "Train set: (155738, 4) (155738,)\nTest set: (38935, 4) (38935,)\n"
                }
            ],
            "source": "from sklearn.model_selection import train_test_split\nX_train, X_test, y_train, y_test = train_test_split( X, y, test_size=0.2, random_state=4)\nprint ('Train set:', X_train.shape,  y_train.shape)\nprint ('Test set:', X_test.shape,  y_test.shape)"
        },
        {
            "cell_type": "code",
            "execution_count": 49,
            "metadata": {},
            "outputs": [
                {
                    "name": "stdout",
                    "output_type": "stream",
                    "text": "Train set SVM Accuracy:  0.7010987656223513\nTest set SVM Accuracy:  0.7043790933607295\nJaccard Score:  0.7043790933607295\nF1-Score:  0.5822060468781798\n"
                },
                {
                    "name": "stderr",
                    "output_type": "stream",
                    "text": "/opt/conda/envs/Python36/lib/python3.6/site-packages/sklearn/metrics/classification.py:1143: UndefinedMetricWarning: F-score is ill-defined and being set to 0.0 in labels with no predicted samples.\n  'precision', 'predicted', average, warn_for)\n"
                }
            ],
            "source": "yhat = collisions_svm.predict(X_test)\nyhat\nprint(\"Train set SVM Accuracy: \", metrics.accuracy_score(y, collisions_svm.predict(X)))\nprint(\"Test set SVM Accuracy: \", metrics.accuracy_score(y_test, yhat))\nsvm_jaccard = jaccard_similarity_score(y_test, yhat)\nsvm_f1 = f1_score(y_test, yhat, average='weighted')\nprint(\"Jaccard Score: \", svm_jaccard)\nprint(\"F1-Score: \", svm_f1)"
        },
        {
            "cell_type": "code",
            "execution_count": 50,
            "metadata": {
                "scrolled": true
            },
            "outputs": [
                {
                    "name": "stdout",
                    "output_type": "stream",
                    "text": "Train set Logistic regression Accuracy:  0.7010987656223513\nTest set Logistic regression Accuracy:  0.7043790933607295\nJaccard Score:  0.7043790933607295\nF1-Score:  0.5822060468781798\nLogLoss Score:  0.6073198896934224\n"
                },
                {
                    "name": "stderr",
                    "output_type": "stream",
                    "text": "/opt/conda/envs/Python36/lib/python3.6/site-packages/sklearn/metrics/classification.py:1143: UndefinedMetricWarning: F-score is ill-defined and being set to 0.0 in labels with no predicted samples.\n  'precision', 'predicted', average, warn_for)\n"
                }
            ],
            "source": "yhat = collisions_logisticReg_1.predict(X_test)\nyhat_proba = collisions_logisticReg_1.predict_proba(X_test)\nyhat\nprint(\"Train set Logistic regression Accuracy: \", metrics.accuracy_score(y, collisions_logisticReg_1.predict(X)))\nprint(\"Test set Logistic regression Accuracy: \", metrics.accuracy_score(y_test, yhat))\nlogisticReg_jaccard = jaccard_similarity_score(y_test, yhat)\nlogisticReg_f1 = f1_score(y_test, yhat, average='weighted')\nlogisticReg_logLoss = log_loss(y_test, yhat_proba)\nprint(\"Jaccard Score: \", logisticReg_jaccard)\nprint(\"F1-Score: \", logisticReg_f1)\nprint(\"LogLoss Score: \", logisticReg_logLoss)"
        },
        {
            "cell_type": "code",
            "execution_count": 51,
            "metadata": {},
            "outputs": [],
            "source": "preds = collisions_logisticReg.predict(X_test)"
        },
        {
            "cell_type": "markdown",
            "metadata": {},
            "source": "Upon producing a confusion matrix to test the accuracy of the logistic regression model, I saw that all the predicted values returned as 0 or 'property damage', which confirmed my earlier suspicions."
        },
        {
            "cell_type": "code",
            "execution_count": 52,
            "metadata": {
                "scrolled": true
            },
            "outputs": [
                {
                    "name": "stdout",
                    "output_type": "stream",
                    "text": "[[    0 11510]\n [    0 27425]]\n"
                },
                {
                    "data": {
                        "image/png": "[encoded data removed]",
                        "text/plain": "<Figure size 432x288 with 1 Axes>"
                    },
                    "metadata": {
                        "needs_background": "light"
                    },
                    "output_type": "display_data"
                }
            ],
            "source": "from sklearn.metrics import confusion_matrix\nprint(confusion_matrix(y_test,preds,labels=[1,0]))\nimport seaborn as sns\nimport matplotlib.pyplot as plt\nsns.heatmap(confusion_matrix(y_test,preds),annot=True,lw =2,cbar=False)\nplt.ylabel(\"True Values\")\nplt.xlabel(\"Predicted Values\")\nplt.title(\"CONFUSION MATRIX VISUALIZATION\")\nplt.show()"
        },
        {
            "cell_type": "markdown",
            "metadata": {},
            "source": "Upon further examination of the accuracy of both the SVM and logistic regression models, we can see that both models returned the exact same scores for all shared metrics. Moreover, the table below indicates the scores of each model. Due to the low Jaccard and F1-scores, as well as the relatively high logloss score for the logistic regression model, it is clear that the relationship between my chosen independent variables and dependent variable is not as strong as I initially believed. "
        },
        {
            "cell_type": "code",
            "execution_count": 53,
            "metadata": {},
            "outputs": [
                {
                    "data": {
                        "text/html": "<div>\n<style scoped>\n    .dataframe tbody tr th:only-of-type {\n        vertical-align: middle;\n    }\n\n    .dataframe tbody tr th {\n        vertical-align: top;\n    }\n\n    .dataframe thead th {\n        text-align: right;\n    }\n</style>\n<table border=\"1\" class=\"dataframe\">\n  <thead>\n    <tr style=\"text-align: right;\">\n      <th></th>\n      <th></th>\n      <th></th>\n      <th></th>\n    </tr>\n    <tr>\n      <th>Algorithm</th>\n      <th>Jaccard</th>\n      <th>F1-score</th>\n      <th>LogLoss</th>\n    </tr>\n  </thead>\n  <tbody>\n    <tr>\n      <th>SVM</th>\n      <th>0.7043790933607295</th>\n      <th>0.5822060468781798</th>\n      <th>NA</th>\n    </tr>\n    <tr>\n      <th>LogisticRegression</th>\n      <th>0.7043790933607295</th>\n      <th>0.5822060468781798</th>\n      <th>0.6073198896934224</th>\n    </tr>\n  </tbody>\n</table>\n</div>",
                        "text/plain": "Empty DataFrame\nColumns: []\nIndex: [(SVM, 0.7043790933607295, 0.5822060468781798, NA), (LogisticRegression, 0.7043790933607295, 0.5822060468781798, 0.6073198896934224)]"
                    },
                    "execution_count": 53,
                    "metadata": {},
                    "output_type": "execute_result"
                }
            ],
            "source": "final_report = pd.DataFrame(data=np.array([[\"SVM\", svm_jaccard, svm_f1, \"NA\"],\n                                    [\"LogisticRegression\", logisticReg_jaccard, logisticReg_f1, logisticReg_logLoss]]), columns=[\"Algorithm\", \"Jaccard\", \"F1-score\", \"LogLoss\"])\nfinal_report = final_report.set_index([\"Algorithm\", \"Jaccard\", \"F1-score\", \"LogLoss\"])\nfinal_report"
        },
        {
            "cell_type": "markdown",
            "metadata": {},
            "source": "### Discussion and Conclusion"
        },
        {
            "cell_type": "markdown",
            "metadata": {},
            "source": "To conclude this investigation, it seems that the independent variables that were chosen: light, road and weather conditions, together with whether or not there was a driver under the influence were not able to predict the overall severity of each accident, upon analyzing the road collision dataset from the Seattle Police Department. There are numerous different reasons that can explain why this result occured. For example, because I converted all the independent variables into binary parameters, an abundance of minute yet important information could have been lost which could have aided in the investigation. Furthermore, because in all cases for the independent variables, one value dominated all others. In the road conditions, dry conditions were by far the most dominant, in weather conditions it was clear weather, in light conditions it was day and in the under the influence set, it was 'no'. This could have contributed to the final result in which all predicted values from the logistic regression model returned as one value. Another reason for this result could have been because the information within the data set for accident severity only included two values: minor injury and property damage. Due to this, the probability results for each predicted value could have been skewed towards the binary value in which the independent variables were skewed towards as well. \n\nUltimately, the exploration into these variables was unsuccessful, however, that does not mean that these variables did not actually have a meaningful effect on accident severity. Perhaps, in the future, if I were to reinvestigate this data set, I would have to delve deeper into my dependent variable and not just rely on severity. It would be helpful to create a separate metric that combines the severity code with the number of people injured, the amount of property damage and the accident description to classify actual severity. With that custom made dependent variable, I would expect to garner a different result and create a more accurate model. \n\nThe final conclusions of this report essentially state that it is extremely likely, that accidents in Seattle will cause property damage at the very least, with a small chance of minor injuries to present parties. More concisely, we saw that there is around a 65.8% chance that there is only property damage and a 34.2% chance that there is a minor injury for each accident. The Seattle Police Department could still find this data useful as they could use the model to predict the percentage chance of injuries or only property damage depending on the factors laid out through the chosen independent variables. Hence, by creating more tests with the model, the SPD could pinpoint the main driving force that increases the likelihood for injuries, which they could mitigate in the future through new policies or infrastructure."
        },
        {
            "cell_type": "code",
            "execution_count": null,
            "metadata": {},
            "outputs": [],
            "source": ""
        }
    ],
    "metadata": {
        "kernelspec": {
            "display_name": "Python 3.6",
            "language": "python",
            "name": "python3"
        },
        "language_info": {
            "codemirror_mode": {
                "name": "ipython",
                "version": 3
            },
            "file_extension": ".py",
            "mimetype": "text/x-python",
            "name": "python",
            "nbconvert_exporter": "python",
            "pygments_lexer": "ipython3",
            "version": "3.6.9"
        }
    },
    "nbformat": 4,
    "nbformat_minor": 1
}