{
    "cells": [
        {
            "cell_type": "markdown",
            "metadata": {
                "collapsed": true
            },
            "source": "This notebook will contain code for the reporting of the project topic and initial data preparation and analysis"
        },
        {
            "cell_type": "code",
            "execution_count": 1,
            "metadata": {},
            "outputs": [],
            "source": "import pandas as pd\nimport numpy as np"
        },
        {
            "cell_type": "markdown",
            "metadata": {},
            "source": "### Introduction and Business Problem"
        },
        {
            "cell_type": "markdown",
            "metadata": {},
            "source": "For the final capstone project in Coursera's 'IBM Data Science Professional Certificate', I will be utilizing a dataset that was initially collected by the Seattle Police Department through their traffic records which contains information regarding vehicular accident severity in the Seattle area from 2004 to the present. After a quick study of the dataset's attributes and information, I decided to base my investigation on the effects of road, weather and light conditions, together with whether or not there is a driver under the influence on the severity of accidents in the Seattle area. I will firstly need to explore the dataset more thoroughly to see the basic correlations between my chosen independent variables on accident severity before I can build a machine learning model that can predict the severity of future accidents. This information could prove extremely useful to  people who commute regularly because they will be able to employ preventative measures depending on the weather. Similarly, roads that are more prone to less desirable conditions due to the weather or lighting issues can be closed off or improved upon based on the findings in this investigation. Moreover, this analysis can also help inform the Seattle Police Department regarding their staffing numbers or locations based on different conditions as well as whether or not they would have to crack down on drivers under the influence more heavily. "
        },
        {
            "cell_type": "markdown",
            "metadata": {},
            "source": "### Description of Data"
        },
        {
            "cell_type": "markdown",
            "metadata": {},
            "source": "The first 5 rows of the full dataset for this project is shown below. However, because I decided to limit my investigation to 4 independent variables and a single dependent variable, I will also limit the dataset. This limited dataset will include the variables: 'SEVERITYCODE', 'ROADCOND', 'LIGHTCOND', 'WEATHER', and 'UNDERINFL', all of which are described in the second table below."
        },
        {
            "cell_type": "code",
            "execution_count": 5,
            "metadata": {
                "scrolled": false
            },
            "outputs": [
                {
                    "data": {
                        "text/html": "<div>\n<style scoped>\n    .dataframe tbody tr th:only-of-type {\n        vertical-align: middle;\n    }\n\n    .dataframe tbody tr th {\n        vertical-align: top;\n    }\n\n    .dataframe thead th {\n        text-align: right;\n    }\n</style>\n<table border=\"1\" class=\"dataframe\">\n  <thead>\n    <tr style=\"text-align: right;\">\n      <th></th>\n      <th>SEVERITYCODE</th>\n      <th>X</th>\n      <th>Y</th>\n      <th>OBJECTID</th>\n      <th>INCKEY</th>\n      <th>COLDETKEY</th>\n      <th>REPORTNO</th>\n      <th>STATUS</th>\n      <th>ADDRTYPE</th>\n      <th>INTKEY</th>\n      <th>...</th>\n      <th>ROADCOND</th>\n      <th>LIGHTCOND</th>\n      <th>PEDROWNOTGRNT</th>\n      <th>SDOTCOLNUM</th>\n      <th>SPEEDING</th>\n      <th>ST_COLCODE</th>\n      <th>ST_COLDESC</th>\n      <th>SEGLANEKEY</th>\n      <th>CROSSWALKKEY</th>\n      <th>HITPARKEDCAR</th>\n    </tr>\n  </thead>\n  <tbody>\n    <tr>\n      <th>0</th>\n      <td>2</td>\n      <td>-122.323148</td>\n      <td>47.703140</td>\n      <td>1</td>\n      <td>1307</td>\n      <td>1307</td>\n      <td>3502005</td>\n      <td>Matched</td>\n      <td>Intersection</td>\n      <td>37475.0</td>\n      <td>...</td>\n      <td>Wet</td>\n      <td>Daylight</td>\n      <td>NaN</td>\n      <td>NaN</td>\n      <td>NaN</td>\n      <td>10</td>\n      <td>Entering at angle</td>\n      <td>0</td>\n      <td>0</td>\n      <td>N</td>\n    </tr>\n    <tr>\n      <th>1</th>\n      <td>1</td>\n      <td>-122.347294</td>\n      <td>47.647172</td>\n      <td>2</td>\n      <td>52200</td>\n      <td>52200</td>\n      <td>2607959</td>\n      <td>Matched</td>\n      <td>Block</td>\n      <td>NaN</td>\n      <td>...</td>\n      <td>Wet</td>\n      <td>Dark - Street Lights On</td>\n      <td>NaN</td>\n      <td>6354039.0</td>\n      <td>NaN</td>\n      <td>11</td>\n      <td>From same direction - both going straight - bo...</td>\n      <td>0</td>\n      <td>0</td>\n      <td>N</td>\n    </tr>\n    <tr>\n      <th>2</th>\n      <td>1</td>\n      <td>-122.334540</td>\n      <td>47.607871</td>\n      <td>3</td>\n      <td>26700</td>\n      <td>26700</td>\n      <td>1482393</td>\n      <td>Matched</td>\n      <td>Block</td>\n      <td>NaN</td>\n      <td>...</td>\n      <td>Dry</td>\n      <td>Daylight</td>\n      <td>NaN</td>\n      <td>4323031.0</td>\n      <td>NaN</td>\n      <td>32</td>\n      <td>One parked--one moving</td>\n      <td>0</td>\n      <td>0</td>\n      <td>N</td>\n    </tr>\n    <tr>\n      <th>3</th>\n      <td>1</td>\n      <td>-122.334803</td>\n      <td>47.604803</td>\n      <td>4</td>\n      <td>1144</td>\n      <td>1144</td>\n      <td>3503937</td>\n      <td>Matched</td>\n      <td>Block</td>\n      <td>NaN</td>\n      <td>...</td>\n      <td>Dry</td>\n      <td>Daylight</td>\n      <td>NaN</td>\n      <td>NaN</td>\n      <td>NaN</td>\n      <td>23</td>\n      <td>From same direction - all others</td>\n      <td>0</td>\n      <td>0</td>\n      <td>N</td>\n    </tr>\n    <tr>\n      <th>4</th>\n      <td>2</td>\n      <td>-122.306426</td>\n      <td>47.545739</td>\n      <td>5</td>\n      <td>17700</td>\n      <td>17700</td>\n      <td>1807429</td>\n      <td>Matched</td>\n      <td>Intersection</td>\n      <td>34387.0</td>\n      <td>...</td>\n      <td>Wet</td>\n      <td>Daylight</td>\n      <td>NaN</td>\n      <td>4028032.0</td>\n      <td>NaN</td>\n      <td>10</td>\n      <td>Entering at angle</td>\n      <td>0</td>\n      <td>0</td>\n      <td>N</td>\n    </tr>\n  </tbody>\n</table>\n<p>5 rows \u00d7 38 columns</p>\n</div>",
                        "text/plain": "   SEVERITYCODE           X          Y  OBJECTID  INCKEY  COLDETKEY REPORTNO  \\\n0             2 -122.323148  47.703140         1    1307       1307  3502005   \n1             1 -122.347294  47.647172         2   52200      52200  2607959   \n2             1 -122.334540  47.607871         3   26700      26700  1482393   \n3             1 -122.334803  47.604803         4    1144       1144  3503937   \n4             2 -122.306426  47.545739         5   17700      17700  1807429   \n\n    STATUS      ADDRTYPE   INTKEY  ... ROADCOND                LIGHTCOND  \\\n0  Matched  Intersection  37475.0  ...      Wet                 Daylight   \n1  Matched         Block      NaN  ...      Wet  Dark - Street Lights On   \n2  Matched         Block      NaN  ...      Dry                 Daylight   \n3  Matched         Block      NaN  ...      Dry                 Daylight   \n4  Matched  Intersection  34387.0  ...      Wet                 Daylight   \n\n  PEDROWNOTGRNT  SDOTCOLNUM SPEEDING ST_COLCODE  \\\n0           NaN         NaN      NaN         10   \n1           NaN   6354039.0      NaN         11   \n2           NaN   4323031.0      NaN         32   \n3           NaN         NaN      NaN         23   \n4           NaN   4028032.0      NaN         10   \n\n                                          ST_COLDESC  SEGLANEKEY  \\\n0                                  Entering at angle           0   \n1  From same direction - both going straight - bo...           0   \n2                             One parked--one moving           0   \n3                   From same direction - all others           0   \n4                                  Entering at angle           0   \n\n   CROSSWALKKEY  HITPARKEDCAR  \n0             0             N  \n1             0             N  \n2             0             N  \n3             0             N  \n4             0             N  \n\n[5 rows x 38 columns]"
                    },
                    "execution_count": 5,
                    "metadata": {},
                    "output_type": "execute_result"
                }
            ],
            "source": "# The code was removed by Watson Studio for sharing."
        },
        {
            "cell_type": "code",
            "execution_count": 22,
            "metadata": {},
            "outputs": [],
            "source": "severity_desc = \"A code that corresponds to the severity of the collision\""
        },
        {
            "cell_type": "code",
            "execution_count": 26,
            "metadata": {},
            "outputs": [
                {
                    "data": {
                        "text/html": "<div>\n<style scoped>\n    .dataframe tbody tr th:only-of-type {\n        vertical-align: middle;\n    }\n\n    .dataframe tbody tr th {\n        vertical-align: top;\n    }\n\n    .dataframe thead th {\n        text-align: right;\n    }\n</style>\n<table border=\"1\" class=\"dataframe\">\n  <thead>\n    <tr style=\"text-align: right;\">\n      <th></th>\n      <th></th>\n    </tr>\n    <tr>\n      <th>Variable</th>\n      <th>Description</th>\n    </tr>\n  </thead>\n  <tbody>\n    <tr>\n      <th>SEVERITYCODE</th>\n      <th>A code that corresponds to the severity of the collision</th>\n    </tr>\n    <tr>\n      <th>WEATHER</th>\n      <th>A description of the weather conditions during the time of the collision.</th>\n    </tr>\n    <tr>\n      <th>ROADCOND</th>\n      <th>The condition of the road during the collision.</th>\n    </tr>\n    <tr>\n      <th>LIGHTCOND</th>\n      <th>The light conditions during the collision.</th>\n    </tr>\n    <tr>\n      <th>UNDERINFL</th>\n      <th>Whether or not a driver involved was under the influence of drugs or alcohol.</th>\n    </tr>\n  </tbody>\n</table>\n</div>",
                        "text/plain": "Empty DataFrame\nColumns: []\nIndex: [(SEVERITYCODE, A code that corresponds to the severity of the collision), (WEATHER, A description of the weather conditions during the time of the collision.), (ROADCOND, The condition of the road during the collision.), (LIGHTCOND, The light conditions during the collision.), (UNDERINFL, Whether or not a driver involved was under the influence of drugs or alcohol.)]"
                    },
                    "execution_count": 26,
                    "metadata": {},
                    "output_type": "execute_result"
                }
            ],
            "source": "info_report = pd.DataFrame(data=np.array([[\"SEVERITYCODE\", severity_desc],\n                                     [\"WEATHER\", \"A description of the weather conditions during the time of the collision.\"],\n                                    [\"ROADCOND\", \"The condition of the road during the collision.\"],\n                                    [\"LIGHTCOND\", \"The light conditions during the collision.\" ],\n                                         [\"UNDERINFL\", \"Whether or not a driver involved was under the influence of drugs or alcohol.\" ]]), columns=[\"Variable\", \"Description\"])\ninfo_report = info_report.set_index([\"Variable\", \"Description\"])\ninfo_report.style.set_properties(**{'text-align': 'middle'})\ninfo_report"
        },
        {
            "cell_type": "markdown",
            "metadata": {},
            "source": "Severity Code Description:\n- 3: fatality\n- 2b: serious injury\n- 2: injury\n- 1: prop damage\n- 0: unknown "
        },
        {
            "cell_type": "markdown",
            "metadata": {},
            "source": "The focused dataset is shown below and only contains data regarding the severity of each accident, the weather, road and light conditions, together with data relating to the presence of a driver under the influence."
        },
        {
            "cell_type": "code",
            "execution_count": 14,
            "metadata": {},
            "outputs": [
                {
                    "data": {
                        "text/html": "<div>\n<style scoped>\n    .dataframe tbody tr th:only-of-type {\n        vertical-align: middle;\n    }\n\n    .dataframe tbody tr th {\n        vertical-align: top;\n    }\n\n    .dataframe thead th {\n        text-align: right;\n    }\n</style>\n<table border=\"1\" class=\"dataframe\">\n  <thead>\n    <tr style=\"text-align: right;\">\n      <th></th>\n      <th>SEVERITYCODE</th>\n      <th>WEATHER</th>\n      <th>ROADCOND</th>\n      <th>LIGHTCOND</th>\n      <th>UNDERINFL</th>\n    </tr>\n  </thead>\n  <tbody>\n    <tr>\n      <th>0</th>\n      <td>2</td>\n      <td>Overcast</td>\n      <td>Wet</td>\n      <td>Daylight</td>\n      <td>N</td>\n    </tr>\n    <tr>\n      <th>1</th>\n      <td>1</td>\n      <td>Raining</td>\n      <td>Wet</td>\n      <td>Dark - Street Lights On</td>\n      <td>0</td>\n    </tr>\n    <tr>\n      <th>2</th>\n      <td>1</td>\n      <td>Overcast</td>\n      <td>Dry</td>\n      <td>Daylight</td>\n      <td>0</td>\n    </tr>\n    <tr>\n      <th>3</th>\n      <td>1</td>\n      <td>Clear</td>\n      <td>Dry</td>\n      <td>Daylight</td>\n      <td>N</td>\n    </tr>\n    <tr>\n      <th>4</th>\n      <td>2</td>\n      <td>Raining</td>\n      <td>Wet</td>\n      <td>Daylight</td>\n      <td>0</td>\n    </tr>\n  </tbody>\n</table>\n</div>",
                        "text/plain": "   SEVERITYCODE   WEATHER ROADCOND                LIGHTCOND UNDERINFL\n0             2  Overcast      Wet                 Daylight         N\n1             1   Raining      Wet  Dark - Street Lights On         0\n2             1  Overcast      Dry                 Daylight         0\n3             1     Clear      Dry                 Daylight         N\n4             2   Raining      Wet                 Daylight         0"
                    },
                    "execution_count": 14,
                    "metadata": {},
                    "output_type": "execute_result"
                }
            ],
            "source": "df_data = df_data_1.filter([\"SEVERITYCODE\", \"WEATHER\", \"ROADCOND\", \"LIGHTCOND\", \"UNDERINFL\"], axis = 1)\ndf_data.head()"
        },
        {
            "cell_type": "markdown",
            "metadata": {},
            "source": "In order to prepare the data, I first had to look at the types of data that I will be working with. As you can see in the succeeding output, severity is measured by integers while my other variables are object types. Before modifying the data types, I first wanted to see more basic information about my chosen variables.  "
        },
        {
            "cell_type": "code",
            "execution_count": 15,
            "metadata": {},
            "outputs": [
                {
                    "data": {
                        "text/plain": "SEVERITYCODE     int64\nWEATHER         object\nROADCOND        object\nLIGHTCOND       object\nUNDERINFL       object\ndtype: object"
                    },
                    "execution_count": 15,
                    "metadata": {},
                    "output_type": "execute_result"
                }
            ],
            "source": "df_data.dtypes"
        },
        {
            "cell_type": "markdown",
            "metadata": {},
            "source": "Firstly, I examined the road conditions dataframe and found that most of the accidents occured with dry road conditions. Therefore, I can convert this variable into a categorical variable with binary numbers. By clustering all the other road conditions together as one 'other' road condition, I can set the type of this variable to integer as well, with 1s and 0s representing dry or other. "
        },
        {
            "cell_type": "code",
            "execution_count": 10,
            "metadata": {},
            "outputs": [
                {
                    "data": {
                        "text/html": "<div>\n<style scoped>\n    .dataframe tbody tr th:only-of-type {\n        vertical-align: middle;\n    }\n\n    .dataframe tbody tr th {\n        vertical-align: top;\n    }\n\n    .dataframe thead th {\n        text-align: right;\n    }\n</style>\n<table border=\"1\" class=\"dataframe\">\n  <thead>\n    <tr style=\"text-align: right;\">\n      <th></th>\n      <th>ROADCOND</th>\n    </tr>\n  </thead>\n  <tbody>\n    <tr>\n      <th>Dry</th>\n      <td>124510</td>\n    </tr>\n    <tr>\n      <th>Wet</th>\n      <td>47474</td>\n    </tr>\n    <tr>\n      <th>Unknown</th>\n      <td>15078</td>\n    </tr>\n    <tr>\n      <th>Ice</th>\n      <td>1209</td>\n    </tr>\n    <tr>\n      <th>Snow/Slush</th>\n      <td>1004</td>\n    </tr>\n    <tr>\n      <th>Other</th>\n      <td>132</td>\n    </tr>\n    <tr>\n      <th>Standing Water</th>\n      <td>115</td>\n    </tr>\n    <tr>\n      <th>Sand/Mud/Dirt</th>\n      <td>75</td>\n    </tr>\n    <tr>\n      <th>Oil</th>\n      <td>64</td>\n    </tr>\n  </tbody>\n</table>\n</div>",
                        "text/plain": "                ROADCOND\nDry               124510\nWet                47474\nUnknown            15078\nIce                 1209\nSnow/Slush          1004\nOther                132\nStanding Water       115\nSand/Mud/Dirt         75\nOil                   64"
                    },
                    "execution_count": 10,
                    "metadata": {},
                    "output_type": "execute_result"
                }
            ],
            "source": "df_data_1[\"ROADCOND\"].value_counts().to_frame()"
        },
        {
            "cell_type": "markdown",
            "metadata": {},
            "source": "Similarly, light conditions can also be converted to binary figures by clumping together other light conditions besides 'Daylight', especially since other light conditions can mostly be considered relatively dark."
        },
        {
            "cell_type": "code",
            "execution_count": 11,
            "metadata": {
                "scrolled": true
            },
            "outputs": [
                {
                    "data": {
                        "text/html": "<div>\n<style scoped>\n    .dataframe tbody tr th:only-of-type {\n        vertical-align: middle;\n    }\n\n    .dataframe tbody tr th {\n        vertical-align: top;\n    }\n\n    .dataframe thead th {\n        text-align: right;\n    }\n</style>\n<table border=\"1\" class=\"dataframe\">\n  <thead>\n    <tr style=\"text-align: right;\">\n      <th></th>\n      <th>LIGHTCOND</th>\n    </tr>\n  </thead>\n  <tbody>\n    <tr>\n      <th>Daylight</th>\n      <td>116137</td>\n    </tr>\n    <tr>\n      <th>Dark - Street Lights On</th>\n      <td>48507</td>\n    </tr>\n    <tr>\n      <th>Unknown</th>\n      <td>13473</td>\n    </tr>\n    <tr>\n      <th>Dusk</th>\n      <td>5902</td>\n    </tr>\n    <tr>\n      <th>Dawn</th>\n      <td>2502</td>\n    </tr>\n    <tr>\n      <th>Dark - No Street Lights</th>\n      <td>1537</td>\n    </tr>\n    <tr>\n      <th>Dark - Street Lights Off</th>\n      <td>1199</td>\n    </tr>\n    <tr>\n      <th>Other</th>\n      <td>235</td>\n    </tr>\n    <tr>\n      <th>Dark - Unknown Lighting</th>\n      <td>11</td>\n    </tr>\n  </tbody>\n</table>\n</div>",
                        "text/plain": "                          LIGHTCOND\nDaylight                     116137\nDark - Street Lights On       48507\nUnknown                       13473\nDusk                           5902\nDawn                           2502\nDark - No Street Lights        1537\nDark - Street Lights Off       1199\nOther                           235\nDark - Unknown Lighting          11"
                    },
                    "execution_count": 11,
                    "metadata": {},
                    "output_type": "execute_result"
                }
            ],
            "source": "df_data_1[\"LIGHTCOND\"].value_counts().to_frame()"
        },
        {
            "cell_type": "markdown",
            "metadata": {},
            "source": "The weather variable will also follow its preceding variables and can be converted into a categorical, binary variable with clear weather being represented by 1 and other weather types as 0."
        },
        {
            "cell_type": "code",
            "execution_count": 12,
            "metadata": {
                "scrolled": true
            },
            "outputs": [
                {
                    "data": {
                        "text/html": "<div>\n<style scoped>\n    .dataframe tbody tr th:only-of-type {\n        vertical-align: middle;\n    }\n\n    .dataframe tbody tr th {\n        vertical-align: top;\n    }\n\n    .dataframe thead th {\n        text-align: right;\n    }\n</style>\n<table border=\"1\" class=\"dataframe\">\n  <thead>\n    <tr style=\"text-align: right;\">\n      <th></th>\n      <th>WEATHER</th>\n    </tr>\n  </thead>\n  <tbody>\n    <tr>\n      <th>Clear</th>\n      <td>111135</td>\n    </tr>\n    <tr>\n      <th>Raining</th>\n      <td>33145</td>\n    </tr>\n    <tr>\n      <th>Overcast</th>\n      <td>27714</td>\n    </tr>\n    <tr>\n      <th>Unknown</th>\n      <td>15091</td>\n    </tr>\n    <tr>\n      <th>Snowing</th>\n      <td>907</td>\n    </tr>\n    <tr>\n      <th>Other</th>\n      <td>832</td>\n    </tr>\n    <tr>\n      <th>Fog/Smog/Smoke</th>\n      <td>569</td>\n    </tr>\n    <tr>\n      <th>Sleet/Hail/Freezing Rain</th>\n      <td>113</td>\n    </tr>\n    <tr>\n      <th>Blowing Sand/Dirt</th>\n      <td>56</td>\n    </tr>\n    <tr>\n      <th>Severe Crosswind</th>\n      <td>25</td>\n    </tr>\n    <tr>\n      <th>Partly Cloudy</th>\n      <td>5</td>\n    </tr>\n  </tbody>\n</table>\n</div>",
                        "text/plain": "                          WEATHER\nClear                      111135\nRaining                     33145\nOvercast                    27714\nUnknown                     15091\nSnowing                       907\nOther                         832\nFog/Smog/Smoke                569\nSleet/Hail/Freezing Rain      113\nBlowing Sand/Dirt              56\nSevere Crosswind               25\nPartly Cloudy                   5"
                    },
                    "execution_count": 12,
                    "metadata": {},
                    "output_type": "execute_result"
                }
            ],
            "source": "df_data_1[\"WEATHER\"].value_counts().to_frame()"
        },
        {
            "cell_type": "markdown",
            "metadata": {},
            "source": "Lastly, the 'Under the Influence' variable has been categorized with 'Y' and '1' representing yes, 'N' and '0' representing no. This variable can also be cleaned up to be more uniform and just use the binary numbers 1 and 0 to represent yes and no respectively. "
        },
        {
            "cell_type": "code",
            "execution_count": 13,
            "metadata": {},
            "outputs": [
                {
                    "data": {
                        "text/html": "<div>\n<style scoped>\n    .dataframe tbody tr th:only-of-type {\n        vertical-align: middle;\n    }\n\n    .dataframe tbody tr th {\n        vertical-align: top;\n    }\n\n    .dataframe thead th {\n        text-align: right;\n    }\n</style>\n<table border=\"1\" class=\"dataframe\">\n  <thead>\n    <tr style=\"text-align: right;\">\n      <th></th>\n      <th>UNDERINFL</th>\n    </tr>\n  </thead>\n  <tbody>\n    <tr>\n      <th>N</th>\n      <td>100274</td>\n    </tr>\n    <tr>\n      <th>0</th>\n      <td>80394</td>\n    </tr>\n    <tr>\n      <th>Y</th>\n      <td>5126</td>\n    </tr>\n    <tr>\n      <th>1</th>\n      <td>3995</td>\n    </tr>\n  </tbody>\n</table>\n</div>",
                        "text/plain": "   UNDERINFL\nN     100274\n0      80394\nY       5126\n1       3995"
                    },
                    "execution_count": 13,
                    "metadata": {},
                    "output_type": "execute_result"
                }
            ],
            "source": "df_data_1[\"UNDERINFL\"].value_counts().to_frame()"
        },
        {
            "cell_type": "markdown",
            "metadata": {},
            "source": "Upon preparing my full dataset which will include all the categorical, independent variables, I should be able to manufacture a simple machine learning solution that will predict accident severity based on my chosen independent variables."
        },
        {
            "cell_type": "code",
            "execution_count": null,
            "metadata": {},
            "outputs": [],
            "source": ""
        }
    ],
    "metadata": {
        "kernelspec": {
            "display_name": "Python 3.6",
            "language": "python",
            "name": "python3"
        },
        "language_info": {
            "codemirror_mode": {
                "name": "ipython",
                "version": 3
            },
            "file_extension": ".py",
            "mimetype": "text/x-python",
            "name": "python",
            "nbconvert_exporter": "python",
            "pygments_lexer": "ipython3",
            "version": "3.6.9"
        }
    },
    "nbformat": 4,
    "nbformat_minor": 1
}